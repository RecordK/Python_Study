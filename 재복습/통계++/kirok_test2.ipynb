{
  "nbformat": 4,
  "nbformat_minor": 0,
  "metadata": {
    "colab": {
      "name": "kirok-test2",
      "provenance": [],
      "collapsed_sections": []
    },
    "kernelspec": {
      "name": "python3",
      "display_name": "Python 3"
    },
    "language_info": {
      "name": "python"
    }
  },
  "cells": [
    {
      "cell_type": "markdown",
      "source": [
        "# 서울시 따릉이 자전거 2015년 대여량 데이터를 분석하세요"
      ],
      "metadata": {
        "id": "tNRXP8NVy8zW"
      }
    },
    {
      "cell_type": "markdown",
      "source": [
        "#한글적용"
      ],
      "metadata": {
        "id": "Px6Q38d3F6fN"
      }
    },
    {
      "cell_type": "code",
      "source": [
        "# 코랩 한글 적용\n",
        "!sudo apt-get install -y fonts-nanum\n",
        "!sudo fc-cache -fv\n",
        "!rm ~/.cache/matplotlib -rf\n",
        "# 코랩 한글 적용 후 런타임 재시작\n",
        "import matplotlib.pyplot as plt\n",
        "plt.rc('font', family='NanumBarunGothic')\n",
        "plt.rc('axes', unicode_minus=False)\n"
      ],
      "metadata": {
        "colab": {
          "base_uri": "https://localhost:8080/"
        },
        "id": "Rye0x9xz2mmK",
        "outputId": "962a0179-6b67-4d14-ce8d-25400b82b70e"
      },
      "execution_count": 1,
      "outputs": [
        {
          "output_type": "stream",
          "name": "stdout",
          "text": [
            "Reading package lists... Done\n",
            "Building dependency tree       \n",
            "Reading state information... Done\n",
            "fonts-nanum is already the newest version (20170925-1).\n",
            "The following packages were automatically installed and are no longer required:\n",
            "  cuda-command-line-tools-10-0 cuda-command-line-tools-10-1\n",
            "  cuda-command-line-tools-11-0 cuda-compiler-10-0 cuda-compiler-10-1\n",
            "  cuda-compiler-11-0 cuda-cuobjdump-10-0 cuda-cuobjdump-10-1\n",
            "  cuda-cuobjdump-11-0 cuda-cupti-10-0 cuda-cupti-10-1 cuda-cupti-11-0\n",
            "  cuda-cupti-dev-11-0 cuda-documentation-10-0 cuda-documentation-10-1\n",
            "  cuda-documentation-11-0 cuda-documentation-11-1 cuda-gdb-10-0 cuda-gdb-10-1\n",
            "  cuda-gdb-11-0 cuda-gpu-library-advisor-10-0 cuda-gpu-library-advisor-10-1\n",
            "  cuda-libraries-10-0 cuda-libraries-10-1 cuda-libraries-11-0\n",
            "  cuda-memcheck-10-0 cuda-memcheck-10-1 cuda-memcheck-11-0 cuda-nsight-10-0\n",
            "  cuda-nsight-10-1 cuda-nsight-11-0 cuda-nsight-11-1 cuda-nsight-compute-10-0\n",
            "  cuda-nsight-compute-10-1 cuda-nsight-compute-11-0 cuda-nsight-compute-11-1\n",
            "  cuda-nsight-systems-10-1 cuda-nsight-systems-11-0 cuda-nsight-systems-11-1\n",
            "  cuda-nvcc-10-0 cuda-nvcc-10-1 cuda-nvcc-11-0 cuda-nvdisasm-10-0\n",
            "  cuda-nvdisasm-10-1 cuda-nvdisasm-11-0 cuda-nvml-dev-10-0 cuda-nvml-dev-10-1\n",
            "  cuda-nvml-dev-11-0 cuda-nvprof-10-0 cuda-nvprof-10-1 cuda-nvprof-11-0\n",
            "  cuda-nvprune-10-0 cuda-nvprune-10-1 cuda-nvprune-11-0 cuda-nvtx-10-0\n",
            "  cuda-nvtx-10-1 cuda-nvtx-11-0 cuda-nvvp-10-0 cuda-nvvp-10-1 cuda-nvvp-11-0\n",
            "  cuda-nvvp-11-1 cuda-samples-10-0 cuda-samples-10-1 cuda-samples-11-0\n",
            "  cuda-samples-11-1 cuda-sanitizer-11-0 cuda-sanitizer-api-10-1\n",
            "  cuda-toolkit-10-0 cuda-toolkit-10-1 cuda-toolkit-11-0 cuda-toolkit-11-1\n",
            "  cuda-tools-10-0 cuda-tools-10-1 cuda-tools-11-0 cuda-tools-11-1\n",
            "  cuda-visual-tools-10-0 cuda-visual-tools-10-1 cuda-visual-tools-11-0\n",
            "  cuda-visual-tools-11-1 default-jre dkms freeglut3 freeglut3-dev\n",
            "  keyboard-configuration libargon2-0 libcap2 libcryptsetup12\n",
            "  libdevmapper1.02.1 libfontenc1 libidn11 libip4tc0 libjansson4\n",
            "  libnvidia-cfg1-510 libnvidia-common-460 libnvidia-common-510\n",
            "  libnvidia-extra-510 libnvidia-fbc1-510 libnvidia-gl-510 libpam-systemd\n",
            "  libpolkit-agent-1-0 libpolkit-backend-1-0 libpolkit-gobject-1-0 libxfont2\n",
            "  libxi-dev libxkbfile1 libxmu-dev libxmu-headers libxnvctrl0 libxtst6\n",
            "  nsight-compute-2020.2.1 nsight-compute-2022.1.0 nsight-systems-2020.3.2\n",
            "  nsight-systems-2020.3.4 nsight-systems-2021.5.2 nvidia-dkms-510\n",
            "  nvidia-kernel-common-510 nvidia-kernel-source-510 nvidia-modprobe\n",
            "  nvidia-settings openjdk-11-jre policykit-1 policykit-1-gnome python3-xkit\n",
            "  screen-resolution-extra systemd systemd-sysv udev x11-xkb-utils\n",
            "  xserver-common xserver-xorg-core-hwe-18.04 xserver-xorg-video-nvidia-510\n",
            "Use 'sudo apt autoremove' to remove them.\n",
            "0 upgraded, 0 newly installed, 0 to remove and 39 not upgraded.\n",
            "/usr/share/fonts: caching, new cache contents: 0 fonts, 1 dirs\n",
            "/usr/share/fonts/truetype: caching, new cache contents: 0 fonts, 3 dirs\n",
            "/usr/share/fonts/truetype/humor-sans: caching, new cache contents: 1 fonts, 0 dirs\n",
            "/usr/share/fonts/truetype/liberation: caching, new cache contents: 16 fonts, 0 dirs\n",
            "/usr/share/fonts/truetype/nanum: caching, new cache contents: 10 fonts, 0 dirs\n",
            "/usr/local/share/fonts: caching, new cache contents: 0 fonts, 0 dirs\n",
            "/root/.local/share/fonts: skipping, no such directory\n",
            "/root/.fonts: skipping, no such directory\n",
            "/var/cache/fontconfig: cleaning cache directory\n",
            "/root/.cache/fontconfig: not cleaning non-existent cache directory\n",
            "/root/.fontconfig: not cleaning non-existent cache directory\n",
            "fc-cache: succeeded\n"
          ]
        }
      ]
    },
    {
      "cell_type": "markdown",
      "source": [
        "#데이터"
      ],
      "metadata": {
        "id": "Z4bCaBSzF88X"
      }
    },
    {
      "cell_type": "code",
      "source": [
        "# 서울시 따릉이 자전거 2015년 대여량 데이터를 읽어 bicycle에 저장하세요\n",
        "# 2015년 이후 데이터는 너무 커서 시간이 많이 걸림\n",
        "import pandas as pd\n",
        "filename=\"https://raw.githubusercontent.com/KimYounghwan/bigdata/master/%EC%84%9C%EC%9A%B8%ED%8A%B9%EB%B3%84%EC%8B%9C%20%EA%B3%B5%EA%B3%B5%EC%9E%90%EC%A0%84%EA%B1%B0%20%EB%8C%80%EC%97%AC%EC%9D%B4%EB%A0%A5%20%EC%A0%95%EB%B3%B4_2015%EB%85%84.csv\"\n",
        "\n",
        "bicycle=pd.read_csv(filename,encoding='euc-kr')"
      ],
      "metadata": {
        "id": "k4uM_5Vpbheo"
      },
      "execution_count": 185,
      "outputs": []
    },
    {
      "cell_type": "code",
      "source": [
        "# bicycle의 구조를 출력하세요\n",
        "bicycle.info()\n"
      ],
      "metadata": {
        "colab": {
          "base_uri": "https://localhost:8080/"
        },
        "id": "YGAcb4lGbhhK",
        "outputId": "d4195006-5f0a-4071-f6c8-9eb2afe5c992"
      },
      "execution_count": 7,
      "outputs": [
        {
          "output_type": "stream",
          "name": "stdout",
          "text": [
            "<class 'pandas.core.frame.DataFrame'>\n",
            "RangeIndex: 107858 entries, 0 to 107857\n",
            "Data columns (total 11 columns):\n",
            " #   Column    Non-Null Count   Dtype \n",
            "---  ------    --------------   ----- \n",
            " 0   자전거번호     107858 non-null  object\n",
            " 1   대여일시      107858 non-null  object\n",
            " 2   대여소번호     107858 non-null  object\n",
            " 3   대여소명      107858 non-null  object\n",
            " 4   거치대번호     107858 non-null  int64 \n",
            " 5   반납일시      107858 non-null  object\n",
            " 6   반납대여소번호   107858 non-null  object\n",
            " 7   반납대여소명    107858 non-null  object\n",
            " 8   반납 거치대번호  107858 non-null  int64 \n",
            " 9   이용시간      107858 non-null  int64 \n",
            " 10  이용거리      107858 non-null  int64 \n",
            "dtypes: int64(4), object(7)\n",
            "memory usage: 9.1+ MB\n"
          ]
        }
      ]
    },
    {
      "cell_type": "code",
      "source": [
        "# bicycle의 앞부분 5줄만 출력하시오\n",
        "bicycle.head()\n"
      ],
      "metadata": {
        "colab": {
          "base_uri": "https://localhost:8080/",
          "height": 201
        },
        "id": "DAfGLdDVbhj7",
        "outputId": "3f12a3cd-3229-4436-df9d-4f7b3c0054ca"
      },
      "execution_count": 8,
      "outputs": [
        {
          "output_type": "execute_result",
          "data": {
            "text/html": [
              "\n",
              "  <div id=\"df-62181aef-e25d-46ec-bad7-74739b47c72b\">\n",
              "    <div class=\"colab-df-container\">\n",
              "      <div>\n",
              "<style scoped>\n",
              "    .dataframe tbody tr th:only-of-type {\n",
              "        vertical-align: middle;\n",
              "    }\n",
              "\n",
              "    .dataframe tbody tr th {\n",
              "        vertical-align: top;\n",
              "    }\n",
              "\n",
              "    .dataframe thead th {\n",
              "        text-align: right;\n",
              "    }\n",
              "</style>\n",
              "<table border=\"1\" class=\"dataframe\">\n",
              "  <thead>\n",
              "    <tr style=\"text-align: right;\">\n",
              "      <th></th>\n",
              "      <th>자전거번호</th>\n",
              "      <th>대여일시</th>\n",
              "      <th>대여소번호</th>\n",
              "      <th>대여소명</th>\n",
              "      <th>거치대번호</th>\n",
              "      <th>반납일시</th>\n",
              "      <th>반납대여소번호</th>\n",
              "      <th>반납대여소명</th>\n",
              "      <th>반납 거치대번호</th>\n",
              "      <th>이용시간</th>\n",
              "      <th>이용거리</th>\n",
              "    </tr>\n",
              "  </thead>\n",
              "  <tbody>\n",
              "    <tr>\n",
              "      <th>0</th>\n",
              "      <td>SPB-00186</td>\n",
              "      <td>2015-09-19 0:59</td>\n",
              "      <td>115</td>\n",
              "      <td>사루비아 빌딩 앞</td>\n",
              "      <td>5</td>\n",
              "      <td>2015-09-19 2:39</td>\n",
              "      <td>115</td>\n",
              "      <td>사루비아 빌딩 앞</td>\n",
              "      <td>5</td>\n",
              "      <td>98</td>\n",
              "      <td>15240</td>\n",
              "    </tr>\n",
              "    <tr>\n",
              "      <th>1</th>\n",
              "      <td>SPB-00403</td>\n",
              "      <td>2015-09-19 1:22</td>\n",
              "      <td>112</td>\n",
              "      <td>극동방송국 앞</td>\n",
              "      <td>3</td>\n",
              "      <td>2015-09-19 6:09</td>\n",
              "      <td>102</td>\n",
              "      <td>망원역 1번출구 앞</td>\n",
              "      <td>16</td>\n",
              "      <td>286</td>\n",
              "      <td>10910</td>\n",
              "    </tr>\n",
              "    <tr>\n",
              "      <th>2</th>\n",
              "      <td>SPB-00485</td>\n",
              "      <td>2015-09-19 1:32</td>\n",
              "      <td>112</td>\n",
              "      <td>극동방송국 앞</td>\n",
              "      <td>1</td>\n",
              "      <td>2015-09-19 6:09</td>\n",
              "      <td>102</td>\n",
              "      <td>망원역 1번출구 앞</td>\n",
              "      <td>15</td>\n",
              "      <td>276</td>\n",
              "      <td>11000</td>\n",
              "    </tr>\n",
              "    <tr>\n",
              "      <th>3</th>\n",
              "      <td>SPB-00292</td>\n",
              "      <td>2015-09-19 7:52</td>\n",
              "      <td>221</td>\n",
              "      <td>여의도초교 앞</td>\n",
              "      <td>2</td>\n",
              "      <td>2015-09-19 8:56</td>\n",
              "      <td>221</td>\n",
              "      <td>여의도초교 앞</td>\n",
              "      <td>1</td>\n",
              "      <td>63</td>\n",
              "      <td>16500</td>\n",
              "    </tr>\n",
              "    <tr>\n",
              "      <th>4</th>\n",
              "      <td>SPB-00270</td>\n",
              "      <td>2015-09-19 8:56</td>\n",
              "      <td>221</td>\n",
              "      <td>여의도초교 앞</td>\n",
              "      <td>3</td>\n",
              "      <td>2015-09-19 9:05</td>\n",
              "      <td>210</td>\n",
              "      <td>IFC몰</td>\n",
              "      <td>2</td>\n",
              "      <td>8</td>\n",
              "      <td>1870</td>\n",
              "    </tr>\n",
              "  </tbody>\n",
              "</table>\n",
              "</div>\n",
              "      <button class=\"colab-df-convert\" onclick=\"convertToInteractive('df-62181aef-e25d-46ec-bad7-74739b47c72b')\"\n",
              "              title=\"Convert this dataframe to an interactive table.\"\n",
              "              style=\"display:none;\">\n",
              "        \n",
              "  <svg xmlns=\"http://www.w3.org/2000/svg\" height=\"24px\"viewBox=\"0 0 24 24\"\n",
              "       width=\"24px\">\n",
              "    <path d=\"M0 0h24v24H0V0z\" fill=\"none\"/>\n",
              "    <path d=\"M18.56 5.44l.94 2.06.94-2.06 2.06-.94-2.06-.94-.94-2.06-.94 2.06-2.06.94zm-11 1L8.5 8.5l.94-2.06 2.06-.94-2.06-.94L8.5 2.5l-.94 2.06-2.06.94zm10 10l.94 2.06.94-2.06 2.06-.94-2.06-.94-.94-2.06-.94 2.06-2.06.94z\"/><path d=\"M17.41 7.96l-1.37-1.37c-.4-.4-.92-.59-1.43-.59-.52 0-1.04.2-1.43.59L10.3 9.45l-7.72 7.72c-.78.78-.78 2.05 0 2.83L4 21.41c.39.39.9.59 1.41.59.51 0 1.02-.2 1.41-.59l7.78-7.78 2.81-2.81c.8-.78.8-2.07 0-2.86zM5.41 20L4 18.59l7.72-7.72 1.47 1.35L5.41 20z\"/>\n",
              "  </svg>\n",
              "      </button>\n",
              "      \n",
              "  <style>\n",
              "    .colab-df-container {\n",
              "      display:flex;\n",
              "      flex-wrap:wrap;\n",
              "      gap: 12px;\n",
              "    }\n",
              "\n",
              "    .colab-df-convert {\n",
              "      background-color: #E8F0FE;\n",
              "      border: none;\n",
              "      border-radius: 50%;\n",
              "      cursor: pointer;\n",
              "      display: none;\n",
              "      fill: #1967D2;\n",
              "      height: 32px;\n",
              "      padding: 0 0 0 0;\n",
              "      width: 32px;\n",
              "    }\n",
              "\n",
              "    .colab-df-convert:hover {\n",
              "      background-color: #E2EBFA;\n",
              "      box-shadow: 0px 1px 2px rgba(60, 64, 67, 0.3), 0px 1px 3px 1px rgba(60, 64, 67, 0.15);\n",
              "      fill: #174EA6;\n",
              "    }\n",
              "\n",
              "    [theme=dark] .colab-df-convert {\n",
              "      background-color: #3B4455;\n",
              "      fill: #D2E3FC;\n",
              "    }\n",
              "\n",
              "    [theme=dark] .colab-df-convert:hover {\n",
              "      background-color: #434B5C;\n",
              "      box-shadow: 0px 1px 3px 1px rgba(0, 0, 0, 0.15);\n",
              "      filter: drop-shadow(0px 1px 2px rgba(0, 0, 0, 0.3));\n",
              "      fill: #FFFFFF;\n",
              "    }\n",
              "  </style>\n",
              "\n",
              "      <script>\n",
              "        const buttonEl =\n",
              "          document.querySelector('#df-62181aef-e25d-46ec-bad7-74739b47c72b button.colab-df-convert');\n",
              "        buttonEl.style.display =\n",
              "          google.colab.kernel.accessAllowed ? 'block' : 'none';\n",
              "\n",
              "        async function convertToInteractive(key) {\n",
              "          const element = document.querySelector('#df-62181aef-e25d-46ec-bad7-74739b47c72b');\n",
              "          const dataTable =\n",
              "            await google.colab.kernel.invokeFunction('convertToInteractive',\n",
              "                                                     [key], {});\n",
              "          if (!dataTable) return;\n",
              "\n",
              "          const docLinkHtml = 'Like what you see? Visit the ' +\n",
              "            '<a target=\"_blank\" href=https://colab.research.google.com/notebooks/data_table.ipynb>data table notebook</a>'\n",
              "            + ' to learn more about interactive tables.';\n",
              "          element.innerHTML = '';\n",
              "          dataTable['output_type'] = 'display_data';\n",
              "          await google.colab.output.renderOutput(dataTable, element);\n",
              "          const docLink = document.createElement('div');\n",
              "          docLink.innerHTML = docLinkHtml;\n",
              "          element.appendChild(docLink);\n",
              "        }\n",
              "      </script>\n",
              "    </div>\n",
              "  </div>\n",
              "  "
            ],
            "text/plain": [
              "       자전거번호             대여일시 대여소번호  ... 반납 거치대번호  이용시간   이용거리\n",
              "0  SPB-00186  2015-09-19 0:59   115  ...        5    98  15240\n",
              "1  SPB-00403  2015-09-19 1:22   112  ...       16   286  10910\n",
              "2  SPB-00485  2015-09-19 1:32   112  ...       15   276  11000\n",
              "3  SPB-00292  2015-09-19 7:52   221  ...        1    63  16500\n",
              "4  SPB-00270  2015-09-19 8:56   221  ...        2     8   1870\n",
              "\n",
              "[5 rows x 11 columns]"
            ]
          },
          "metadata": {},
          "execution_count": 8
        }
      ]
    },
    {
      "cell_type": "code",
      "source": [
        "# 사용된 자전거 댓수를 출력하세요\n",
        "len(bicycle['자전거번호'].unique())"
      ],
      "metadata": {
        "colab": {
          "base_uri": "https://localhost:8080/"
        },
        "id": "alYbvPmV7Tq7",
        "outputId": "10633322-d961-468e-dd73-a6779ebcc876"
      },
      "execution_count": 25,
      "outputs": [
        {
          "output_type": "execute_result",
          "data": {
            "text/plain": [
              "1265"
            ]
          },
          "metadata": {},
          "execution_count": 25
        }
      ]
    },
    {
      "cell_type": "code",
      "source": [
        "# 대여일시의 종류의 갯수를 출력하세요.\n",
        "len(bicycle['대여일시'].unique())"
      ],
      "metadata": {
        "colab": {
          "base_uri": "https://localhost:8080/"
        },
        "id": "jLzVYSz9bhl_",
        "outputId": "a208d557-6120-4f96-985f-6322a6725dba"
      },
      "execution_count": 15,
      "outputs": [
        {
          "output_type": "execute_result",
          "data": {
            "text/plain": [
              "60053"
            ]
          },
          "metadata": {},
          "execution_count": 15
        }
      ]
    },
    {
      "cell_type": "code",
      "source": [
        "# 대여소의 갯수를 출력하세요.\n",
        "bicycle['대여소명'].nunique()"
      ],
      "metadata": {
        "colab": {
          "base_uri": "https://localhost:8080/"
        },
        "id": "oMykqGqgcDx2",
        "outputId": "b5e48cfb-b24b-41a0-d83d-4e3422c024bf"
      },
      "execution_count": 29,
      "outputs": [
        {
          "output_type": "execute_result",
          "data": {
            "text/plain": [
              "145"
            ]
          },
          "metadata": {},
          "execution_count": 29
        }
      ]
    },
    {
      "cell_type": "code",
      "source": [
        "# 전체 이용시간의 요약 통계량을 출력하세요\n",
        "bicycle['이용시간'].describe()"
      ],
      "metadata": {
        "colab": {
          "base_uri": "https://localhost:8080/"
        },
        "id": "TpSkbn2xepwM",
        "outputId": "5f33c226-b76c-42b3-d2c9-20f50d4cbb64"
      },
      "execution_count": 19,
      "outputs": [
        {
          "output_type": "execute_result",
          "data": {
            "text/plain": [
              "count    107858.000000\n",
              "mean         28.014241\n",
              "std          37.000170\n",
              "min           2.000000\n",
              "25%           7.000000\n",
              "50%          16.000000\n",
              "75%          40.000000\n",
              "max        1321.000000\n",
              "Name: 이용시간, dtype: float64"
            ]
          },
          "metadata": {},
          "execution_count": 19
        }
      ]
    },
    {
      "cell_type": "code",
      "source": [
        "# 전체 이용시간의 분포그래프을 출력하세요(간격갯수는100)\n",
        "bicycle['이용시간'].plot.hist(bins=100)"
      ],
      "metadata": {
        "colab": {
          "base_uri": "https://localhost:8080/",
          "height": 281
        },
        "id": "q6q6RU5-q_48",
        "outputId": "aa39b661-964d-431d-a94a-2b4d1466b198"
      },
      "execution_count": 30,
      "outputs": [
        {
          "output_type": "execute_result",
          "data": {
            "text/plain": [
              "<matplotlib.axes._subplots.AxesSubplot at 0x7fb89519d710>"
            ]
          },
          "metadata": {},
          "execution_count": 30
        },
        {
          "output_type": "display_data",
          "data": {
            "image/png": "[encoded data removed]",
            "text/plain": [
              "<Figure size 432x288 with 1 Axes>"
            ]
          },
          "metadata": {
            "needs_background": "light"
          }
        }
      ]
    },
    {
      "cell_type": "code",
      "source": [
        "# 전체 이용거리의 요약 통계량을 출력하세요\n",
        "bicycle['이용거리'].describe()"
      ],
      "metadata": {
        "colab": {
          "base_uri": "https://localhost:8080/"
        },
        "id": "NIHV8gd9qvKb",
        "outputId": "5af19968-27e6-476d-bc47-3ac61ef299aa"
      },
      "execution_count": 31,
      "outputs": [
        {
          "output_type": "execute_result",
          "data": {
            "text/plain": [
              "count    107858.000000\n",
              "mean       3192.462961\n",
              "std        3470.151724\n",
              "min           0.000000\n",
              "25%        1090.000000\n",
              "50%        1940.000000\n",
              "75%        4030.000000\n",
              "max       55550.000000\n",
              "Name: 이용거리, dtype: float64"
            ]
          },
          "metadata": {},
          "execution_count": 31
        }
      ]
    },
    {
      "cell_type": "code",
      "source": [
        "# 전체 이용거리의 분포그래프을 출력하세요(간격갯수는100)\n",
        "bicycle['이용거리'].plot.hist(bins=100)"
      ],
      "metadata": {
        "colab": {
          "base_uri": "https://localhost:8080/",
          "height": 281
        },
        "id": "uvZhqb_hrAdJ",
        "outputId": "e3a95f7e-e7c4-4b75-d63f-e58a02fe33aa"
      },
      "execution_count": 33,
      "outputs": [
        {
          "output_type": "execute_result",
          "data": {
            "text/plain": [
              "<matplotlib.axes._subplots.AxesSubplot at 0x7fb894ed3a50>"
            ]
          },
          "metadata": {},
          "execution_count": 33
        },
        {
          "output_type": "display_data",
          "data": {
            "image/png": "[encoded data removed]",
            "text/plain": [
              "<Figure size 432x288 with 1 Axes>"
            ]
          },
          "metadata": {
            "needs_background": "light"
          }
        }
      ]
    },
    {
      "cell_type": "code",
      "source": [
        "# 대여일시칼럼을 datetime 타입으로 변환, 년,월,일, 시, 요일 칼럼으로 나누세요.\n",
        "# 요일명은 Series.dt.day_name() 사용\n",
        "# 앞부분 5줄만 출력하세요\n",
        "bicycle['대여일시']=pd.to_datetime(bicycle['대여일시'])\n",
        "bicycle['년'] = bicycle['대여일시'].dt.year\n",
        "bicycle['월'] = bicycle['대여일시'].dt.month\n",
        "bicycle['일'] = bicycle['대여일시'].dt.day\n",
        "bicycle['시'] = bicycle['대여일시'].dt.hour\n",
        "week_names = [\"월\",\"화\",\"수\",\"목\",\"금\",\"토\",\"일\"]\n",
        "bicycle_dt_week = bicycle['대여일시'].dt.day_of_week # Timestamp타입 시리즈에서 요일값(숫자) 추출\n",
        "wk_list = [ week_names[wk] for wk in bicycle_dt_week  ] #요일값(숫자)를 요일문자로 변환\n",
        "bicycle[\"요일\"]  = wk_list # 요일문자 리스트를 exec_week칼럼에 저장\n",
        "bicycle"
      ],
      "metadata": {
        "colab": {
          "base_uri": "https://localhost:8080/",
          "height": 456
        },
        "id": "zm5r2EQk0cgG",
        "outputId": "4af8ad9c-d660-4781-b54e-65dff9e039a1"
      },
      "execution_count": 186,
      "outputs": [
        {
          "output_type": "execute_result",
          "data": {
            "text/html": [
              "\n",
              "  <div id=\"df-46e15f2b-b829-43d9-af72-b48c361a7922\">\n",
              "    <div class=\"colab-df-container\">\n",
              "      <div>\n",
              "<style scoped>\n",
              "    .dataframe tbody tr th:only-of-type {\n",
              "        vertical-align: middle;\n",
              "    }\n",
              "\n",
              "    .dataframe tbody tr th {\n",
              "        vertical-align: top;\n",
              "    }\n",
              "\n",
              "    .dataframe thead th {\n",
              "        text-align: right;\n",
              "    }\n",
              "</style>\n",
              "<table border=\"1\" class=\"dataframe\">\n",
              "  <thead>\n",
              "    <tr style=\"text-align: right;\">\n",
              "      <th></th>\n",
              "      <th>자전거번호</th>\n",
              "      <th>대여일시</th>\n",
              "      <th>대여소번호</th>\n",
              "      <th>대여소명</th>\n",
              "      <th>거치대번호</th>\n",
              "      <th>반납일시</th>\n",
              "      <th>반납대여소번호</th>\n",
              "      <th>반납대여소명</th>\n",
              "      <th>반납 거치대번호</th>\n",
              "      <th>이용시간</th>\n",
              "      <th>이용거리</th>\n",
              "      <th>년</th>\n",
              "      <th>월</th>\n",
              "      <th>일</th>\n",
              "      <th>시</th>\n",
              "      <th>요일</th>\n",
              "    </tr>\n",
              "  </thead>\n",
              "  <tbody>\n",
              "    <tr>\n",
              "      <th>0</th>\n",
              "      <td>SPB-00186</td>\n",
              "      <td>2015-09-19 00:59:00</td>\n",
              "      <td>115</td>\n",
              "      <td>사루비아 빌딩 앞</td>\n",
              "      <td>5</td>\n",
              "      <td>2015-09-19 2:39</td>\n",
              "      <td>115</td>\n",
              "      <td>사루비아 빌딩 앞</td>\n",
              "      <td>5</td>\n",
              "      <td>98</td>\n",
              "      <td>15240</td>\n",
              "      <td>2015</td>\n",
              "      <td>9</td>\n",
              "      <td>19</td>\n",
              "      <td>0</td>\n",
              "      <td>토</td>\n",
              "    </tr>\n",
              "    <tr>\n",
              "      <th>1</th>\n",
              "      <td>SPB-00403</td>\n",
              "      <td>2015-09-19 01:22:00</td>\n",
              "      <td>112</td>\n",
              "      <td>극동방송국 앞</td>\n",
              "      <td>3</td>\n",
              "      <td>2015-09-19 6:09</td>\n",
              "      <td>102</td>\n",
              "      <td>망원역 1번출구 앞</td>\n",
              "      <td>16</td>\n",
              "      <td>286</td>\n",
              "      <td>10910</td>\n",
              "      <td>2015</td>\n",
              "      <td>9</td>\n",
              "      <td>19</td>\n",
              "      <td>1</td>\n",
              "      <td>토</td>\n",
              "    </tr>\n",
              "    <tr>\n",
              "      <th>2</th>\n",
              "      <td>SPB-00485</td>\n",
              "      <td>2015-09-19 01:32:00</td>\n",
              "      <td>112</td>\n",
              "      <td>극동방송국 앞</td>\n",
              "      <td>1</td>\n",
              "      <td>2015-09-19 6:09</td>\n",
              "      <td>102</td>\n",
              "      <td>망원역 1번출구 앞</td>\n",
              "      <td>15</td>\n",
              "      <td>276</td>\n",
              "      <td>11000</td>\n",
              "      <td>2015</td>\n",
              "      <td>9</td>\n",
              "      <td>19</td>\n",
              "      <td>1</td>\n",
              "      <td>토</td>\n",
              "    </tr>\n",
              "    <tr>\n",
              "      <th>3</th>\n",
              "      <td>SPB-00292</td>\n",
              "      <td>2015-09-19 07:52:00</td>\n",
              "      <td>221</td>\n",
              "      <td>여의도초교 앞</td>\n",
              "      <td>2</td>\n",
              "      <td>2015-09-19 8:56</td>\n",
              "      <td>221</td>\n",
              "      <td>여의도초교 앞</td>\n",
              "      <td>1</td>\n",
              "      <td>63</td>\n",
              "      <td>16500</td>\n",
              "      <td>2015</td>\n",
              "      <td>9</td>\n",
              "      <td>19</td>\n",
              "      <td>7</td>\n",
              "      <td>토</td>\n",
              "    </tr>\n",
              "    <tr>\n",
              "      <th>4</th>\n",
              "      <td>SPB-00270</td>\n",
              "      <td>2015-09-19 08:56:00</td>\n",
              "      <td>221</td>\n",
              "      <td>여의도초교 앞</td>\n",
              "      <td>3</td>\n",
              "      <td>2015-09-19 9:05</td>\n",
              "      <td>210</td>\n",
              "      <td>IFC몰</td>\n",
              "      <td>2</td>\n",
              "      <td>8</td>\n",
              "      <td>1870</td>\n",
              "      <td>2015</td>\n",
              "      <td>9</td>\n",
              "      <td>19</td>\n",
              "      <td>8</td>\n",
              "      <td>토</td>\n",
              "    </tr>\n",
              "    <tr>\n",
              "      <th>...</th>\n",
              "      <td>...</td>\n",
              "      <td>...</td>\n",
              "      <td>...</td>\n",
              "      <td>...</td>\n",
              "      <td>...</td>\n",
              "      <td>...</td>\n",
              "      <td>...</td>\n",
              "      <td>...</td>\n",
              "      <td>...</td>\n",
              "      <td>...</td>\n",
              "      <td>...</td>\n",
              "      <td>...</td>\n",
              "      <td>...</td>\n",
              "      <td>...</td>\n",
              "      <td>...</td>\n",
              "      <td>...</td>\n",
              "    </tr>\n",
              "    <tr>\n",
              "      <th>107853</th>\n",
              "      <td>SPB-00668</td>\n",
              "      <td>2015-12-31 23:29:00</td>\n",
              "      <td>102</td>\n",
              "      <td>망원역 1번출구 앞</td>\n",
              "      <td>16</td>\n",
              "      <td>2015-12-31 23:36</td>\n",
              "      <td>108</td>\n",
              "      <td>서교동 사거리</td>\n",
              "      <td>10</td>\n",
              "      <td>6</td>\n",
              "      <td>940</td>\n",
              "      <td>2015</td>\n",
              "      <td>12</td>\n",
              "      <td>31</td>\n",
              "      <td>23</td>\n",
              "      <td>목</td>\n",
              "    </tr>\n",
              "    <tr>\n",
              "      <th>107854</th>\n",
              "      <td>SPB-00610</td>\n",
              "      <td>2015-12-31 23:43:00</td>\n",
              "      <td>105</td>\n",
              "      <td>합정역 5번출구 앞</td>\n",
              "      <td>5</td>\n",
              "      <td>2015-12-31 23:51</td>\n",
              "      <td>113</td>\n",
              "      <td>홍대입구역 2번출구 앞</td>\n",
              "      <td>22</td>\n",
              "      <td>7</td>\n",
              "      <td>1310</td>\n",
              "      <td>2015</td>\n",
              "      <td>12</td>\n",
              "      <td>31</td>\n",
              "      <td>23</td>\n",
              "      <td>목</td>\n",
              "    </tr>\n",
              "    <tr>\n",
              "      <th>107855</th>\n",
              "      <td>SPB-00502</td>\n",
              "      <td>2015-12-31 23:45:00</td>\n",
              "      <td>207</td>\n",
              "      <td>여의나루역 1번출구 앞</td>\n",
              "      <td>21</td>\n",
              "      <td>2015-12-31 23:51</td>\n",
              "      <td>221</td>\n",
              "      <td>여의도초교 앞</td>\n",
              "      <td>3</td>\n",
              "      <td>5</td>\n",
              "      <td>770</td>\n",
              "      <td>2015</td>\n",
              "      <td>12</td>\n",
              "      <td>31</td>\n",
              "      <td>23</td>\n",
              "      <td>목</td>\n",
              "    </tr>\n",
              "    <tr>\n",
              "      <th>107856</th>\n",
              "      <td>SPB-00827</td>\n",
              "      <td>2015-12-31 23:45:00</td>\n",
              "      <td>104</td>\n",
              "      <td>합정역 1번출구 앞</td>\n",
              "      <td>1</td>\n",
              "      <td>2015-12-31 23:54</td>\n",
              "      <td>113</td>\n",
              "      <td>홍대입구역 2번출구 앞</td>\n",
              "      <td>20</td>\n",
              "      <td>8</td>\n",
              "      <td>1190</td>\n",
              "      <td>2015</td>\n",
              "      <td>12</td>\n",
              "      <td>31</td>\n",
              "      <td>23</td>\n",
              "      <td>목</td>\n",
              "    </tr>\n",
              "    <tr>\n",
              "      <th>107857</th>\n",
              "      <td>SPB-00871</td>\n",
              "      <td>2015-12-31 23:54:00</td>\n",
              "      <td>129</td>\n",
              "      <td>신촌역(2호선) 6번출구 옆</td>\n",
              "      <td>13</td>\n",
              "      <td>2016-01-01 0:03</td>\n",
              "      <td>125</td>\n",
              "      <td>서강대 남문 옆</td>\n",
              "      <td>14</td>\n",
              "      <td>8</td>\n",
              "      <td>700</td>\n",
              "      <td>2015</td>\n",
              "      <td>12</td>\n",
              "      <td>31</td>\n",
              "      <td>23</td>\n",
              "      <td>목</td>\n",
              "    </tr>\n",
              "  </tbody>\n",
              "</table>\n",
              "<p>107858 rows × 16 columns</p>\n",
              "</div>\n",
              "      <button class=\"colab-df-convert\" onclick=\"convertToInteractive('df-46e15f2b-b829-43d9-af72-b48c361a7922')\"\n",
              "              title=\"Convert this dataframe to an interactive table.\"\n",
              "              style=\"display:none;\">\n",
              "        \n",
              "  <svg xmlns=\"http://www.w3.org/2000/svg\" height=\"24px\"viewBox=\"0 0 24 24\"\n",
              "       width=\"24px\">\n",
              "    <path d=\"M0 0h24v24H0V0z\" fill=\"none\"/>\n",
              "    <path d=\"M18.56 5.44l.94 2.06.94-2.06 2.06-.94-2.06-.94-.94-2.06-.94 2.06-2.06.94zm-11 1L8.5 8.5l.94-2.06 2.06-.94-2.06-.94L8.5 2.5l-.94 2.06-2.06.94zm10 10l.94 2.06.94-2.06 2.06-.94-2.06-.94-.94-2.06-.94 2.06-2.06.94z\"/><path d=\"M17.41 7.96l-1.37-1.37c-.4-.4-.92-.59-1.43-.59-.52 0-1.04.2-1.43.59L10.3 9.45l-7.72 7.72c-.78.78-.78 2.05 0 2.83L4 21.41c.39.39.9.59 1.41.59.51 0 1.02-.2 1.41-.59l7.78-7.78 2.81-2.81c.8-.78.8-2.07 0-2.86zM5.41 20L4 18.59l7.72-7.72 1.47 1.35L5.41 20z\"/>\n",
              "  </svg>\n",
              "      </button>\n",
              "      \n",
              "  <style>\n",
              "    .colab-df-container {\n",
              "      display:flex;\n",
              "      flex-wrap:wrap;\n",
              "      gap: 12px;\n",
              "    }\n",
              "\n",
              "    .colab-df-convert {\n",
              "      background-color: #E8F0FE;\n",
              "      border: none;\n",
              "      border-radius: 50%;\n",
              "      cursor: pointer;\n",
              "      display: none;\n",
              "      fill: #1967D2;\n",
              "      height: 32px;\n",
              "      padding: 0 0 0 0;\n",
              "      width: 32px;\n",
              "    }\n",
              "\n",
              "    .colab-df-convert:hover {\n",
              "      background-color: #E2EBFA;\n",
              "      box-shadow: 0px 1px 2px rgba(60, 64, 67, 0.3), 0px 1px 3px 1px rgba(60, 64, 67, 0.15);\n",
              "      fill: #174EA6;\n",
              "    }\n",
              "\n",
              "    [theme=dark] .colab-df-convert {\n",
              "      background-color: #3B4455;\n",
              "      fill: #D2E3FC;\n",
              "    }\n",
              "\n",
              "    [theme=dark] .colab-df-convert:hover {\n",
              "      background-color: #434B5C;\n",
              "      box-shadow: 0px 1px 3px 1px rgba(0, 0, 0, 0.15);\n",
              "      filter: drop-shadow(0px 1px 2px rgba(0, 0, 0, 0.3));\n",
              "      fill: #FFFFFF;\n",
              "    }\n",
              "  </style>\n",
              "\n",
              "      <script>\n",
              "        const buttonEl =\n",
              "          document.querySelector('#df-46e15f2b-b829-43d9-af72-b48c361a7922 button.colab-df-convert');\n",
              "        buttonEl.style.display =\n",
              "          google.colab.kernel.accessAllowed ? 'block' : 'none';\n",
              "\n",
              "        async function convertToInteractive(key) {\n",
              "          const element = document.querySelector('#df-46e15f2b-b829-43d9-af72-b48c361a7922');\n",
              "          const dataTable =\n",
              "            await google.colab.kernel.invokeFunction('convertToInteractive',\n",
              "                                                     [key], {});\n",
              "          if (!dataTable) return;\n",
              "\n",
              "          const docLinkHtml = 'Like what you see? Visit the ' +\n",
              "            '<a target=\"_blank\" href=https://colab.research.google.com/notebooks/data_table.ipynb>data table notebook</a>'\n",
              "            + ' to learn more about interactive tables.';\n",
              "          element.innerHTML = '';\n",
              "          dataTable['output_type'] = 'display_data';\n",
              "          await google.colab.output.renderOutput(dataTable, element);\n",
              "          const docLink = document.createElement('div');\n",
              "          docLink.innerHTML = docLinkHtml;\n",
              "          element.appendChild(docLink);\n",
              "        }\n",
              "      </script>\n",
              "    </div>\n",
              "  </div>\n",
              "  "
            ],
            "text/plain": [
              "            자전거번호                대여일시 대여소번호              대여소명  ...   월   일   시 요일\n",
              "0       SPB-00186 2015-09-19 00:59:00   115         사루비아 빌딩 앞  ...   9  19   0  토\n",
              "1       SPB-00403 2015-09-19 01:22:00   112           극동방송국 앞  ...   9  19   1  토\n",
              "2       SPB-00485 2015-09-19 01:32:00   112           극동방송국 앞  ...   9  19   1  토\n",
              "3       SPB-00292 2015-09-19 07:52:00   221           여의도초교 앞  ...   9  19   7  토\n",
              "4       SPB-00270 2015-09-19 08:56:00   221           여의도초교 앞  ...   9  19   8  토\n",
              "...           ...                 ...   ...               ...  ...  ..  ..  .. ..\n",
              "107853  SPB-00668 2015-12-31 23:29:00   102        망원역 1번출구 앞  ...  12  31  23  목\n",
              "107854  SPB-00610 2015-12-31 23:43:00   105        합정역 5번출구 앞  ...  12  31  23  목\n",
              "107855  SPB-00502 2015-12-31 23:45:00   207      여의나루역 1번출구 앞  ...  12  31  23  목\n",
              "107856  SPB-00827 2015-12-31 23:45:00   104        합정역 1번출구 앞  ...  12  31  23  목\n",
              "107857  SPB-00871 2015-12-31 23:54:00   129   신촌역(2호선) 6번출구 옆  ...  12  31  23  목\n",
              "\n",
              "[107858 rows x 16 columns]"
            ]
          },
          "metadata": {},
          "execution_count": 186
        }
      ]
    },
    {
      "cell_type": "code",
      "source": [
        "# 월별 평균 대여건수를 출력하세요. 단, 칼럼명은 반드시 대여건수이어야한다.\n",
        "# 이건 월별 평균 대여건수가 아닌 월별 총 대여건수...\n",
        "a=bicycle.pivot_table(\n",
        "    index='월',\n",
        "    values='대여일시',\n",
        "    aggfunc='count'\n",
        ")\n",
        "a.columns=['대여건수']\n",
        "a"
      ],
      "metadata": {
        "colab": {
          "base_uri": "https://localhost:8080/",
          "height": 201
        },
        "id": "qnVKxJjt3U-Z",
        "outputId": "0e8e4608-d7cf-489b-bb06-372a6d7efd2f"
      },
      "execution_count": 53,
      "outputs": [
        {
          "output_type": "execute_result",
          "data": {
            "text/html": [
              "\n",
              "  <div id=\"df-7db0ca89-a7a5-44a5-9b98-81101653f88c\">\n",
              "    <div class=\"colab-df-container\">\n",
              "      <div>\n",
              "<style scoped>\n",
              "    .dataframe tbody tr th:only-of-type {\n",
              "        vertical-align: middle;\n",
              "    }\n",
              "\n",
              "    .dataframe tbody tr th {\n",
              "        vertical-align: top;\n",
              "    }\n",
              "\n",
              "    .dataframe thead th {\n",
              "        text-align: right;\n",
              "    }\n",
              "</style>\n",
              "<table border=\"1\" class=\"dataframe\">\n",
              "  <thead>\n",
              "    <tr style=\"text-align: right;\">\n",
              "      <th></th>\n",
              "      <th>대여건수</th>\n",
              "    </tr>\n",
              "    <tr>\n",
              "      <th>월</th>\n",
              "      <th></th>\n",
              "    </tr>\n",
              "  </thead>\n",
              "  <tbody>\n",
              "    <tr>\n",
              "      <th>9</th>\n",
              "      <td>10863</td>\n",
              "    </tr>\n",
              "    <tr>\n",
              "      <th>10</th>\n",
              "      <td>38735</td>\n",
              "    </tr>\n",
              "    <tr>\n",
              "      <th>11</th>\n",
              "      <td>36398</td>\n",
              "    </tr>\n",
              "    <tr>\n",
              "      <th>12</th>\n",
              "      <td>21862</td>\n",
              "    </tr>\n",
              "  </tbody>\n",
              "</table>\n",
              "</div>\n",
              "      <button class=\"colab-df-convert\" onclick=\"convertToInteractive('df-7db0ca89-a7a5-44a5-9b98-81101653f88c')\"\n",
              "              title=\"Convert this dataframe to an interactive table.\"\n",
              "              style=\"display:none;\">\n",
              "        \n",
              "  <svg xmlns=\"http://www.w3.org/2000/svg\" height=\"24px\"viewBox=\"0 0 24 24\"\n",
              "       width=\"24px\">\n",
              "    <path d=\"M0 0h24v24H0V0z\" fill=\"none\"/>\n",
              "    <path d=\"M18.56 5.44l.94 2.06.94-2.06 2.06-.94-2.06-.94-.94-2.06-.94 2.06-2.06.94zm-11 1L8.5 8.5l.94-2.06 2.06-.94-2.06-.94L8.5 2.5l-.94 2.06-2.06.94zm10 10l.94 2.06.94-2.06 2.06-.94-2.06-.94-.94-2.06-.94 2.06-2.06.94z\"/><path d=\"M17.41 7.96l-1.37-1.37c-.4-.4-.92-.59-1.43-.59-.52 0-1.04.2-1.43.59L10.3 9.45l-7.72 7.72c-.78.78-.78 2.05 0 2.83L4 21.41c.39.39.9.59 1.41.59.51 0 1.02-.2 1.41-.59l7.78-7.78 2.81-2.81c.8-.78.8-2.07 0-2.86zM5.41 20L4 18.59l7.72-7.72 1.47 1.35L5.41 20z\"/>\n",
              "  </svg>\n",
              "      </button>\n",
              "      \n",
              "  <style>\n",
              "    .colab-df-container {\n",
              "      display:flex;\n",
              "      flex-wrap:wrap;\n",
              "      gap: 12px;\n",
              "    }\n",
              "\n",
              "    .colab-df-convert {\n",
              "      background-color: #E8F0FE;\n",
              "      border: none;\n",
              "      border-radius: 50%;\n",
              "      cursor: pointer;\n",
              "      display: none;\n",
              "      fill: #1967D2;\n",
              "      height: 32px;\n",
              "      padding: 0 0 0 0;\n",
              "      width: 32px;\n",
              "    }\n",
              "\n",
              "    .colab-df-convert:hover {\n",
              "      background-color: #E2EBFA;\n",
              "      box-shadow: 0px 1px 2px rgba(60, 64, 67, 0.3), 0px 1px 3px 1px rgba(60, 64, 67, 0.15);\n",
              "      fill: #174EA6;\n",
              "    }\n",
              "\n",
              "    [theme=dark] .colab-df-convert {\n",
              "      background-color: #3B4455;\n",
              "      fill: #D2E3FC;\n",
              "    }\n",
              "\n",
              "    [theme=dark] .colab-df-convert:hover {\n",
              "      background-color: #434B5C;\n",
              "      box-shadow: 0px 1px 3px 1px rgba(0, 0, 0, 0.15);\n",
              "      filter: drop-shadow(0px 1px 2px rgba(0, 0, 0, 0.3));\n",
              "      fill: #FFFFFF;\n",
              "    }\n",
              "  </style>\n",
              "\n",
              "      <script>\n",
              "        const buttonEl =\n",
              "          document.querySelector('#df-7db0ca89-a7a5-44a5-9b98-81101653f88c button.colab-df-convert');\n",
              "        buttonEl.style.display =\n",
              "          google.colab.kernel.accessAllowed ? 'block' : 'none';\n",
              "\n",
              "        async function convertToInteractive(key) {\n",
              "          const element = document.querySelector('#df-7db0ca89-a7a5-44a5-9b98-81101653f88c');\n",
              "          const dataTable =\n",
              "            await google.colab.kernel.invokeFunction('convertToInteractive',\n",
              "                                                     [key], {});\n",
              "          if (!dataTable) return;\n",
              "\n",
              "          const docLinkHtml = 'Like what you see? Visit the ' +\n",
              "            '<a target=\"_blank\" href=https://colab.research.google.com/notebooks/data_table.ipynb>data table notebook</a>'\n",
              "            + ' to learn more about interactive tables.';\n",
              "          element.innerHTML = '';\n",
              "          dataTable['output_type'] = 'display_data';\n",
              "          await google.colab.output.renderOutput(dataTable, element);\n",
              "          const docLink = document.createElement('div');\n",
              "          docLink.innerHTML = docLinkHtml;\n",
              "          element.appendChild(docLink);\n",
              "        }\n",
              "      </script>\n",
              "    </div>\n",
              "  </div>\n",
              "  "
            ],
            "text/plain": [
              "     대여건수\n",
              "월        \n",
              "9   10863\n",
              "10  38735\n",
              "11  36398\n",
              "12  21862"
            ]
          },
          "metadata": {},
          "execution_count": 53
        }
      ]
    },
    {
      "cell_type": "code",
      "source": [
        "# 월별 평균 대여건수 선그래프를 출력하세요 월별 총 대여건수\n",
        "a.plot()"
      ],
      "metadata": {
        "colab": {
          "base_uri": "https://localhost:8080/",
          "height": 298
        },
        "id": "hwGFgILAhJmU",
        "outputId": "b288d376-3153-4832-f601-6032aba799f2"
      },
      "execution_count": 54,
      "outputs": [
        {
          "output_type": "execute_result",
          "data": {
            "text/plain": [
              "<matplotlib.axes._subplots.AxesSubplot at 0x7fb894b6ebd0>"
            ]
          },
          "metadata": {},
          "execution_count": 54
        },
        {
          "output_type": "display_data",
          "data": {
            "image/png": "[encoded data removed]",
            "text/plain": [
              "<Figure size 432x288 with 1 Axes>"
            ]
          },
          "metadata": {
            "needs_background": "light"
          }
        }
      ]
    },
    {
      "cell_type": "code",
      "source": [
        "# 월별 평균 이용거리 선그래프를 출력하세요\n",
        "bicycle.pivot_table(\n",
        "    index='월',\n",
        "    values='이용거리',\n",
        "    aggfunc='mean'\n",
        ").plot()"
      ],
      "metadata": {
        "colab": {
          "base_uri": "https://localhost:8080/",
          "height": 295
        },
        "id": "6kyxAwN8w7Lp",
        "outputId": "91f380ab-13f1-4201-b46e-d13fd14d8264"
      },
      "execution_count": 60,
      "outputs": [
        {
          "output_type": "execute_result",
          "data": {
            "text/plain": [
              "<matplotlib.axes._subplots.AxesSubplot at 0x7fb89493f190>"
            ]
          },
          "metadata": {},
          "execution_count": 60
        },
        {
          "output_type": "display_data",
          "data": {
            "image/png": "[encoded data removed]",
            "text/plain": [
              "<Figure size 432x288 with 1 Axes>"
            ]
          },
          "metadata": {
            "needs_background": "light"
          }
        }
      ]
    },
    {
      "cell_type": "code",
      "source": [
        "# 월별 평균 이용시간 선그래프를 출력하세요\n",
        "bicycle.pivot_table(\n",
        "    index='월',\n",
        "    values='이용시간',\n",
        "    aggfunc='mean'\n",
        ").plot()"
      ],
      "metadata": {
        "colab": {
          "base_uri": "https://localhost:8080/",
          "height": 295
        },
        "id": "BOAEixkfw7Oi",
        "outputId": "9f7b1594-31ed-4e33-baae-6cc1311377a4"
      },
      "execution_count": 61,
      "outputs": [
        {
          "output_type": "execute_result",
          "data": {
            "text/plain": [
              "<matplotlib.axes._subplots.AxesSubplot at 0x7fb8948c2e50>"
            ]
          },
          "metadata": {},
          "execution_count": 61
        },
        {
          "output_type": "display_data",
          "data": {
            "image/png": "[encoded data removed]",
            "text/plain": [
              "<Figure size 432x288 with 1 Axes>"
            ]
          },
          "metadata": {
            "needs_background": "light"
          }
        }
      ]
    },
    {
      "cell_type": "code",
      "source": [
        "# 요일 순서 지정\n",
        "# 인덱스 순서 변경은 Series.reindex( ... ) 사용\n",
        "week_names"
      ],
      "metadata": {
        "colab": {
          "base_uri": "https://localhost:8080/"
        },
        "id": "840cVVwP_1AN",
        "outputId": "f365d407-bb7e-4407-b666-9675fc66673d"
      },
      "execution_count": 64,
      "outputs": [
        {
          "output_type": "execute_result",
          "data": {
            "text/plain": [
              "['월', '화', '수', '목', '금', '토', '일']"
            ]
          },
          "metadata": {},
          "execution_count": 64
        }
      ]
    },
    {
      "cell_type": "code",
      "source": [
        "# 요일별 대여건수 선그래프를 출력하세요\n",
        "b=bicycle.pivot_table(\n",
        "    index='요일',\n",
        "    values='대여일시',\n",
        "    aggfunc='count'\n",
        ").reindex(index=week_names)\n",
        "b.columns=['대여건수']\n",
        "b.plot()"
      ],
      "metadata": {
        "colab": {
          "base_uri": "https://localhost:8080/",
          "height": 295
        },
        "id": "6hXP9yzX_Akv",
        "outputId": "e828a25b-463f-4fdf-f956-a86ffa783714"
      },
      "execution_count": 80,
      "outputs": [
        {
          "output_type": "execute_result",
          "data": {
            "text/plain": [
              "<matplotlib.axes._subplots.AxesSubplot at 0x7fb893e7b850>"
            ]
          },
          "metadata": {},
          "execution_count": 80
        },
        {
          "output_type": "display_data",
          "data": {
            "image/png": "[encoded data removed]",
            "text/plain": [
              "<Figure size 432x288 with 1 Axes>"
            ]
          },
          "metadata": {
            "needs_background": "light"
          }
        }
      ]
    },
    {
      "cell_type": "code",
      "source": [
        "# 요일별 평균 이용시간 선그래프를 출력하세요\n",
        "bicycle.pivot_table(\n",
        "    index='요일',\n",
        "    values='이용시간',\n",
        "    aggfunc='mean'\n",
        ").reindex(index=week_names).plot()"
      ],
      "metadata": {
        "colab": {
          "base_uri": "https://localhost:8080/",
          "height": 295
        },
        "id": "Z-mPLT7y_AdI",
        "outputId": "f4d6cb3a-7b53-4a69-a33b-5e5bf7fd8de8"
      },
      "execution_count": 86,
      "outputs": [
        {
          "output_type": "execute_result",
          "data": {
            "text/plain": [
              "<matplotlib.axes._subplots.AxesSubplot at 0x7fb89403e8d0>"
            ]
          },
          "metadata": {},
          "execution_count": 86
        },
        {
          "output_type": "display_data",
          "data": {
            "image/png": "[encoded data removed]",
            "text/plain": [
              "<Figure size 432x288 with 1 Axes>"
            ]
          },
          "metadata": {
            "needs_background": "light"
          }
        }
      ]
    },
    {
      "cell_type": "code",
      "source": [
        "# 요일별 대여건수와 이용시간 선그래프를 같이 출력하세요\n",
        "# 답 1\n",
        "import matplotlib.pyplot as plt\n",
        "plt.figure()\n",
        "plt.plot(\n",
        "    b.index,\n",
        "    b.values,\n",
        "    label='대여건수'\n",
        ")\n",
        "plt.plot(\n",
        "    bb.index,\n",
        "    bb.values,\n",
        "    label='이용시간'\n",
        ")\n",
        "plt.legend()\n",
        "plt.show()\n"
      ],
      "metadata": {
        "colab": {
          "base_uri": "https://localhost:8080/",
          "height": 267
        },
        "id": "zd79uf2G_AY1",
        "outputId": "1c2162f9-e590-4e2d-9dba-81a43854857c"
      },
      "execution_count": 82,
      "outputs": [
        {
          "output_type": "display_data",
          "data": {
            "image/png": "[encoded data removed]",
            "text/plain": [
              "<Figure size 432x288 with 1 Axes>"
            ]
          },
          "metadata": {
            "needs_background": "light"
          }
        }
      ]
    },
    {
      "cell_type": "code",
      "source": [
        "# 답 2\n",
        "ac=bicycle.pivot_table(\n",
        "    index='요일',\n",
        "    values='이용시간',\n",
        "    aggfunc=['count','mean']\n",
        ").reindex(index=week_names)\n",
        "ac.columns=['대여건수','이용시간']\n",
        "ac.plot()"
      ],
      "metadata": {
        "colab": {
          "base_uri": "https://localhost:8080/",
          "height": 297
        },
        "id": "r0-A1JSqVkam",
        "outputId": "e05df42f-b81b-4da3-d26e-35e0a378c08c"
      },
      "execution_count": 88,
      "outputs": [
        {
          "output_type": "execute_result",
          "data": {
            "text/plain": [
              "<matplotlib.axes._subplots.AxesSubplot at 0x7fb894110610>"
            ]
          },
          "metadata": {},
          "execution_count": 88
        },
        {
          "output_type": "display_data",
          "data": {
            "image/png": "[encoded data removed]",
            "text/plain": [
              "<Figure size 432x288 with 1 Axes>"
            ]
          },
          "metadata": {
            "needs_background": "light"
          }
        }
      ]
    },
    {
      "cell_type": "code",
      "source": [
        ""
      ],
      "metadata": {
        "id": "xAxxVuXZ_AVh"
      },
      "execution_count": null,
      "outputs": []
    },
    {
      "cell_type": "code",
      "source": [
        "# 자전거별 총대여건수 top 10의 막대그래프를 출력하세요\n",
        "c=bicycle.pivot_table(\n",
        "    index='자전거번호',\n",
        "    values='이용시간',\n",
        "    aggfunc='count'\n",
        ")\n",
        "c.columns=['총대여건수']\n",
        "c.sort_values('총대여건수',ascending=False).head(10).plot.bar()\n"
      ],
      "metadata": {
        "colab": {
          "base_uri": "https://localhost:8080/",
          "height": 340
        },
        "id": "ziZcW_JNw7Rb",
        "outputId": "c5978497-bd91-447d-f352-3d96f0fc0a9a"
      },
      "execution_count": 79,
      "outputs": [
        {
          "output_type": "execute_result",
          "data": {
            "text/plain": [
              "<matplotlib.axes._subplots.AxesSubplot at 0x7fb893efcc50>"
            ]
          },
          "metadata": {},
          "execution_count": 79
        },
        {
          "output_type": "display_data",
          "data": {
            "image/png": "[encoded data removed]",
            "text/plain": [
              "<Figure size 432x288 with 1 Axes>"
            ]
          },
          "metadata": {
            "needs_background": "light"
          }
        }
      ]
    },
    {
      "cell_type": "code",
      "source": [
        "# 자전거별 총대여건수 top 10의 막대그래프를 출력하세요\n",
        "c=bicycle.pivot_table(\n",
        "    index='자전거번호',\n",
        "    values='이용시간',\n",
        "    aggfunc='count'\n",
        ")\n",
        "c.columns=['총대여건수']\n",
        "c.sort_values('총대여건수').head(10).plot.bar()"
      ],
      "metadata": {
        "colab": {
          "base_uri": "https://localhost:8080/",
          "height": 340
        },
        "id": "yn8K-jCE4PAR",
        "outputId": "1c397d5c-0376-4790-f12a-211c2aaff3c9"
      },
      "execution_count": 221,
      "outputs": [
        {
          "output_type": "execute_result",
          "data": {
            "text/plain": [
              "<matplotlib.axes._subplots.AxesSubplot at 0x7fb889e2d810>"
            ]
          },
          "metadata": {},
          "execution_count": 221
        },
        {
          "output_type": "display_data",
          "data": {
            "image/png": "[encoded data removed]",
            "text/plain": [
              "<Figure size 432x288 with 1 Axes>"
            ]
          },
          "metadata": {
            "needs_background": "light"
          }
        }
      ]
    },
    {
      "cell_type": "code",
      "source": [
        "# 자전거별 평균이용시간 top 10의 선그래프를 출력하세요\n",
        "ccc=bicycle.pivot_table(\n",
        "    index='자전거번호',\n",
        "    values='이용시간',\n",
        "    aggfunc='mean'\n",
        ")\n",
        "ccc.columns=['평균이용시간']\n",
        "ccc.sort_values('평균이용시간',ascending=True).tail(10).plot()"
      ],
      "metadata": {
        "colab": {
          "base_uri": "https://localhost:8080/",
          "height": 295
        },
        "id": "mhMz-mNhw7UK",
        "outputId": "65e2db80-b15f-46ba-92cf-768f0009afc9"
      },
      "execution_count": 90,
      "outputs": [
        {
          "output_type": "execute_result",
          "data": {
            "text/plain": [
              "<matplotlib.axes._subplots.AxesSubplot at 0x7fb893d1f8d0>"
            ]
          },
          "metadata": {},
          "execution_count": 90
        },
        {
          "output_type": "display_data",
          "data": {
            "image/png": "[encoded data removed]",
            "text/plain": [
              "<Figure size 432x288 with 1 Axes>"
            ]
          },
          "metadata": {
            "needs_background": "light"
          }
        }
      ]
    },
    {
      "cell_type": "code",
      "source": [
        "# 자전거별 평균 이용거리 선그래프를 출력하세요\n",
        "ccc1=bicycle.pivot_table(\n",
        "    index='자전거번호',\n",
        "    values='이용거리',\n",
        "    aggfunc='mean'\n",
        ")\n",
        "ccc1.columns=['평균이용거리']\n",
        "ccc1.sort_values('평균이용거리',ascending=True).tail(10).plot()"
      ],
      "metadata": {
        "colab": {
          "base_uri": "https://localhost:8080/",
          "height": 295
        },
        "id": "t_oQVXpQLs_9",
        "outputId": "e8fc2331-75a1-49bb-d44d-7a9585ddeb41"
      },
      "execution_count": 91,
      "outputs": [
        {
          "output_type": "execute_result",
          "data": {
            "text/plain": [
              "<matplotlib.axes._subplots.AxesSubplot at 0x7fb8942d17d0>"
            ]
          },
          "metadata": {},
          "execution_count": 91
        },
        {
          "output_type": "display_data",
          "data": {
            "image/png": "[encoded data removed]",
            "text/plain": [
              "<Figure size 432x288 with 1 Axes>"
            ]
          },
          "metadata": {
            "needs_background": "light"
          }
        }
      ]
    },
    {
      "cell_type": "code",
      "source": [
        "# 대여건수 1등과 꼴등 대여소의 월별 평균 대여건수를 선그래프로 출력하세요. X축은 월\n",
        "# 대여소 전체 평균 대여건수의 선그래프를 추가하세요\n",
        "ga=bicycle.pivot_table(\n",
        "    index='대여소명',\n",
        "    values='이용시간',\n",
        "    aggfunc='count'\n",
        ").sort_values('이용시간',ascending=False)\n",
        "ga.columns=['대여건수']\n",
        "ga1=ga.head(1)\n",
        "ga1=ga1.append(ga.tail(1))\n",
        "gam=ga.values.mean()\n",
        "ga1"
      ],
      "metadata": {
        "id": "cDZRuEH4hJo3",
        "colab": {
          "base_uri": "https://localhost:8080/",
          "height": 140
        },
        "outputId": "d7cf732a-d5e3-4ca2-f6ef-936781212073"
      },
      "execution_count": 150,
      "outputs": [
        {
          "output_type": "execute_result",
          "data": {
            "text/html": [
              "\n",
              "  <div id=\"df-a0257e58-e0c2-43ec-a171-257ddcfcac29\">\n",
              "    <div class=\"colab-df-container\">\n",
              "      <div>\n",
              "<style scoped>\n",
              "    .dataframe tbody tr th:only-of-type {\n",
              "        vertical-align: middle;\n",
              "    }\n",
              "\n",
              "    .dataframe tbody tr th {\n",
              "        vertical-align: top;\n",
              "    }\n",
              "\n",
              "    .dataframe thead th {\n",
              "        text-align: right;\n",
              "    }\n",
              "</style>\n",
              "<table border=\"1\" class=\"dataframe\">\n",
              "  <thead>\n",
              "    <tr style=\"text-align: right;\">\n",
              "      <th></th>\n",
              "      <th>대여건수</th>\n",
              "    </tr>\n",
              "    <tr>\n",
              "      <th>대여소명</th>\n",
              "      <th></th>\n",
              "    </tr>\n",
              "  </thead>\n",
              "  <tbody>\n",
              "    <tr>\n",
              "      <th>홍대입구역 2번출구 앞</th>\n",
              "      <td>2756</td>\n",
              "    </tr>\n",
              "    <tr>\n",
              "      <th>가회동 주민센터 옆(미설치)</th>\n",
              "      <td>2</td>\n",
              "    </tr>\n",
              "  </tbody>\n",
              "</table>\n",
              "</div>\n",
              "      <button class=\"colab-df-convert\" onclick=\"convertToInteractive('df-a0257e58-e0c2-43ec-a171-257ddcfcac29')\"\n",
              "              title=\"Convert this dataframe to an interactive table.\"\n",
              "              style=\"display:none;\">\n",
              "        \n",
              "  <svg xmlns=\"http://www.w3.org/2000/svg\" height=\"24px\"viewBox=\"0 0 24 24\"\n",
              "       width=\"24px\">\n",
              "    <path d=\"M0 0h24v24H0V0z\" fill=\"none\"/>\n",
              "    <path d=\"M18.56 5.44l.94 2.06.94-2.06 2.06-.94-2.06-.94-.94-2.06-.94 2.06-2.06.94zm-11 1L8.5 8.5l.94-2.06 2.06-.94-2.06-.94L8.5 2.5l-.94 2.06-2.06.94zm10 10l.94 2.06.94-2.06 2.06-.94-2.06-.94-.94-2.06-.94 2.06-2.06.94z\"/><path d=\"M17.41 7.96l-1.37-1.37c-.4-.4-.92-.59-1.43-.59-.52 0-1.04.2-1.43.59L10.3 9.45l-7.72 7.72c-.78.78-.78 2.05 0 2.83L4 21.41c.39.39.9.59 1.41.59.51 0 1.02-.2 1.41-.59l7.78-7.78 2.81-2.81c.8-.78.8-2.07 0-2.86zM5.41 20L4 18.59l7.72-7.72 1.47 1.35L5.41 20z\"/>\n",
              "  </svg>\n",
              "      </button>\n",
              "      \n",
              "  <style>\n",
              "    .colab-df-container {\n",
              "      display:flex;\n",
              "      flex-wrap:wrap;\n",
              "      gap: 12px;\n",
              "    }\n",
              "\n",
              "    .colab-df-convert {\n",
              "      background-color: #E8F0FE;\n",
              "      border: none;\n",
              "      border-radius: 50%;\n",
              "      cursor: pointer;\n",
              "      display: none;\n",
              "      fill: #1967D2;\n",
              "      height: 32px;\n",
              "      padding: 0 0 0 0;\n",
              "      width: 32px;\n",
              "    }\n",
              "\n",
              "    .colab-df-convert:hover {\n",
              "      background-color: #E2EBFA;\n",
              "      box-shadow: 0px 1px 2px rgba(60, 64, 67, 0.3), 0px 1px 3px 1px rgba(60, 64, 67, 0.15);\n",
              "      fill: #174EA6;\n",
              "    }\n",
              "\n",
              "    [theme=dark] .colab-df-convert {\n",
              "      background-color: #3B4455;\n",
              "      fill: #D2E3FC;\n",
              "    }\n",
              "\n",
              "    [theme=dark] .colab-df-convert:hover {\n",
              "      background-color: #434B5C;\n",
              "      box-shadow: 0px 1px 3px 1px rgba(0, 0, 0, 0.15);\n",
              "      filter: drop-shadow(0px 1px 2px rgba(0, 0, 0, 0.3));\n",
              "      fill: #FFFFFF;\n",
              "    }\n",
              "  </style>\n",
              "\n",
              "      <script>\n",
              "        const buttonEl =\n",
              "          document.querySelector('#df-a0257e58-e0c2-43ec-a171-257ddcfcac29 button.colab-df-convert');\n",
              "        buttonEl.style.display =\n",
              "          google.colab.kernel.accessAllowed ? 'block' : 'none';\n",
              "\n",
              "        async function convertToInteractive(key) {\n",
              "          const element = document.querySelector('#df-a0257e58-e0c2-43ec-a171-257ddcfcac29');\n",
              "          const dataTable =\n",
              "            await google.colab.kernel.invokeFunction('convertToInteractive',\n",
              "                                                     [key], {});\n",
              "          if (!dataTable) return;\n",
              "\n",
              "          const docLinkHtml = 'Like what you see? Visit the ' +\n",
              "            '<a target=\"_blank\" href=https://colab.research.google.com/notebooks/data_table.ipynb>data table notebook</a>'\n",
              "            + ' to learn more about interactive tables.';\n",
              "          element.innerHTML = '';\n",
              "          dataTable['output_type'] = 'display_data';\n",
              "          await google.colab.output.renderOutput(dataTable, element);\n",
              "          const docLink = document.createElement('div');\n",
              "          docLink.innerHTML = docLinkHtml;\n",
              "          element.appendChild(docLink);\n",
              "        }\n",
              "      </script>\n",
              "    </div>\n",
              "  </div>\n",
              "  "
            ],
            "text/plain": [
              "                  대여건수\n",
              "대여소명                  \n",
              " 홍대입구역 2번출구 앞     2756\n",
              " 가회동 주민센터 옆(미설치)     2"
            ]
          },
          "metadata": {},
          "execution_count": 150
        }
      ]
    },
    {
      "cell_type": "code",
      "source": [
        "gam"
      ],
      "metadata": {
        "colab": {
          "base_uri": "https://localhost:8080/"
        },
        "id": "tQmhYOvElcEf",
        "outputId": "ce862d8e-16b4-4d46-a0d7-ec460e9f8810"
      },
      "execution_count": 151,
      "outputs": [
        {
          "output_type": "execute_result",
          "data": {
            "text/plain": [
              "743.8482758620689"
            ]
          },
          "metadata": {},
          "execution_count": 151
        }
      ]
    },
    {
      "cell_type": "code",
      "source": [
        "ga2=bicycle[bicycle['대여소명']==ga1.index[0]]\n",
        "ga2=ga2.append(bicycle[bicycle['대여소명']==ga1.index[1]])"
      ],
      "metadata": {
        "id": "1RnHmfHKcAIb"
      },
      "execution_count": 152,
      "outputs": []
    },
    {
      "cell_type": "code",
      "source": [
        "plt.figure()\n",
        "ga3=ga2.pivot_table(\n",
        "    index='월',\n",
        "    columns='대여소명',\n",
        "    values='이용시간',\n",
        "    aggfunc='count'\n",
        ").fillna(0).plot()\n",
        "plt.axhline(y=gam, color='r', linewidth=1,label='대여소평균대여건수',linestyle=':')\n",
        "plt.xticks(rotation=45)\n",
        "plt.legend()\n",
        "plt.show()"
      ],
      "metadata": {
        "colab": {
          "base_uri": "https://localhost:8080/",
          "height": 307
        },
        "id": "13d5Of8Cazux",
        "outputId": "5a0281ed-aa71-45bf-f877-8c4609edff35"
      },
      "execution_count": 153,
      "outputs": [
        {
          "output_type": "display_data",
          "data": {
            "text/plain": [
              "<Figure size 432x288 with 0 Axes>"
            ]
          },
          "metadata": {}
        },
        {
          "output_type": "display_data",
          "data": {
            "image/png": "[encoded data removed]",
            "text/plain": [
              "<Figure size 432x288 with 1 Axes>"
            ]
          },
          "metadata": {
            "needs_background": "light"
          }
        }
      ]
    },
    {
      "cell_type": "code",
      "source": [
        "# 대여건수 1등과 꼴등 자전거의 월별 평균 대여건수를 선그래프로 출력하세요. X축은 월\n",
        "# 자전거 전체 평균 대여건수의 선그래프를 추가하세요\n",
        "gaa=bicycle.pivot_table(\n",
        "    index='자전거번호',\n",
        "    values='이용시간',\n",
        "    aggfunc='count'\n",
        ").sort_values('이용시간',ascending=False)\n",
        "gaa.columns=['대여건수']\n",
        "gaa1=gaa.head(1)\n",
        "gaa1=gaa1.append(gaa.tail(1))\n",
        "gaam=gaa.values.mean()\n",
        "gaa1"
      ],
      "metadata": {
        "id": "SW-RpJvShJrY",
        "colab": {
          "base_uri": "https://localhost:8080/",
          "height": 140
        },
        "outputId": "6f127d0c-494e-43b0-c5cd-13e6cd657d84"
      },
      "execution_count": 155,
      "outputs": [
        {
          "output_type": "execute_result",
          "data": {
            "text/html": [
              "\n",
              "  <div id=\"df-1a4bea9a-aed1-4891-8e74-034d52be522a\">\n",
              "    <div class=\"colab-df-container\">\n",
              "      <div>\n",
              "<style scoped>\n",
              "    .dataframe tbody tr th:only-of-type {\n",
              "        vertical-align: middle;\n",
              "    }\n",
              "\n",
              "    .dataframe tbody tr th {\n",
              "        vertical-align: top;\n",
              "    }\n",
              "\n",
              "    .dataframe thead th {\n",
              "        text-align: right;\n",
              "    }\n",
              "</style>\n",
              "<table border=\"1\" class=\"dataframe\">\n",
              "  <thead>\n",
              "    <tr style=\"text-align: right;\">\n",
              "      <th></th>\n",
              "      <th>대여건수</th>\n",
              "    </tr>\n",
              "    <tr>\n",
              "      <th>자전거번호</th>\n",
              "      <th></th>\n",
              "    </tr>\n",
              "  </thead>\n",
              "  <tbody>\n",
              "    <tr>\n",
              "      <th>SPB-00076</th>\n",
              "      <td>196</td>\n",
              "    </tr>\n",
              "    <tr>\n",
              "      <th>SPB-00666</th>\n",
              "      <td>1</td>\n",
              "    </tr>\n",
              "  </tbody>\n",
              "</table>\n",
              "</div>\n",
              "      <button class=\"colab-df-convert\" onclick=\"convertToInteractive('df-1a4bea9a-aed1-4891-8e74-034d52be522a')\"\n",
              "              title=\"Convert this dataframe to an interactive table.\"\n",
              "              style=\"display:none;\">\n",
              "        \n",
              "  <svg xmlns=\"http://www.w3.org/2000/svg\" height=\"24px\"viewBox=\"0 0 24 24\"\n",
              "       width=\"24px\">\n",
              "    <path d=\"M0 0h24v24H0V0z\" fill=\"none\"/>\n",
              "    <path d=\"M18.56 5.44l.94 2.06.94-2.06 2.06-.94-2.06-.94-.94-2.06-.94 2.06-2.06.94zm-11 1L8.5 8.5l.94-2.06 2.06-.94-2.06-.94L8.5 2.5l-.94 2.06-2.06.94zm10 10l.94 2.06.94-2.06 2.06-.94-2.06-.94-.94-2.06-.94 2.06-2.06.94z\"/><path d=\"M17.41 7.96l-1.37-1.37c-.4-.4-.92-.59-1.43-.59-.52 0-1.04.2-1.43.59L10.3 9.45l-7.72 7.72c-.78.78-.78 2.05 0 2.83L4 21.41c.39.39.9.59 1.41.59.51 0 1.02-.2 1.41-.59l7.78-7.78 2.81-2.81c.8-.78.8-2.07 0-2.86zM5.41 20L4 18.59l7.72-7.72 1.47 1.35L5.41 20z\"/>\n",
              "  </svg>\n",
              "      </button>\n",
              "      \n",
              "  <style>\n",
              "    .colab-df-container {\n",
              "      display:flex;\n",
              "      flex-wrap:wrap;\n",
              "      gap: 12px;\n",
              "    }\n",
              "\n",
              "    .colab-df-convert {\n",
              "      background-color: #E8F0FE;\n",
              "      border: none;\n",
              "      border-radius: 50%;\n",
              "      cursor: pointer;\n",
              "      display: none;\n",
              "      fill: #1967D2;\n",
              "      height: 32px;\n",
              "      padding: 0 0 0 0;\n",
              "      width: 32px;\n",
              "    }\n",
              "\n",
              "    .colab-df-convert:hover {\n",
              "      background-color: #E2EBFA;\n",
              "      box-shadow: 0px 1px 2px rgba(60, 64, 67, 0.3), 0px 1px 3px 1px rgba(60, 64, 67, 0.15);\n",
              "      fill: #174EA6;\n",
              "    }\n",
              "\n",
              "    [theme=dark] .colab-df-convert {\n",
              "      background-color: #3B4455;\n",
              "      fill: #D2E3FC;\n",
              "    }\n",
              "\n",
              "    [theme=dark] .colab-df-convert:hover {\n",
              "      background-color: #434B5C;\n",
              "      box-shadow: 0px 1px 3px 1px rgba(0, 0, 0, 0.15);\n",
              "      filter: drop-shadow(0px 1px 2px rgba(0, 0, 0, 0.3));\n",
              "      fill: #FFFFFF;\n",
              "    }\n",
              "  </style>\n",
              "\n",
              "      <script>\n",
              "        const buttonEl =\n",
              "          document.querySelector('#df-1a4bea9a-aed1-4891-8e74-034d52be522a button.colab-df-convert');\n",
              "        buttonEl.style.display =\n",
              "          google.colab.kernel.accessAllowed ? 'block' : 'none';\n",
              "\n",
              "        async function convertToInteractive(key) {\n",
              "          const element = document.querySelector('#df-1a4bea9a-aed1-4891-8e74-034d52be522a');\n",
              "          const dataTable =\n",
              "            await google.colab.kernel.invokeFunction('convertToInteractive',\n",
              "                                                     [key], {});\n",
              "          if (!dataTable) return;\n",
              "\n",
              "          const docLinkHtml = 'Like what you see? Visit the ' +\n",
              "            '<a target=\"_blank\" href=https://colab.research.google.com/notebooks/data_table.ipynb>data table notebook</a>'\n",
              "            + ' to learn more about interactive tables.';\n",
              "          element.innerHTML = '';\n",
              "          dataTable['output_type'] = 'display_data';\n",
              "          await google.colab.output.renderOutput(dataTable, element);\n",
              "          const docLink = document.createElement('div');\n",
              "          docLink.innerHTML = docLinkHtml;\n",
              "          element.appendChild(docLink);\n",
              "        }\n",
              "      </script>\n",
              "    </div>\n",
              "  </div>\n",
              "  "
            ],
            "text/plain": [
              "           대여건수\n",
              "자전거번호          \n",
              "SPB-00076   196\n",
              "SPB-00666     1"
            ]
          },
          "metadata": {},
          "execution_count": 155
        }
      ]
    },
    {
      "cell_type": "code",
      "source": [
        "gaam"
      ],
      "metadata": {
        "colab": {
          "base_uri": "https://localhost:8080/"
        },
        "id": "aqMTYuzDoJ-0",
        "outputId": "16fb5f7a-0b1e-4006-bca5-356380383e5a"
      },
      "execution_count": 159,
      "outputs": [
        {
          "output_type": "execute_result",
          "data": {
            "text/plain": [
              "85.26324110671936"
            ]
          },
          "metadata": {},
          "execution_count": 159
        }
      ]
    },
    {
      "cell_type": "code",
      "source": [
        "gaa2=bicycle[bicycle['자전거번호']==gaa1.index[0]]\n",
        "gaa2=gaa2.append(bicycle[bicycle['자전거번호']==gaa1.index[1]])\n",
        "plt.figure()\n",
        "gaa3=gaa2.pivot_table(\n",
        "    index='월',\n",
        "    columns='자전거번호',\n",
        "    values='이용시간',\n",
        "    aggfunc='count'\n",
        ").fillna(0).plot()\n",
        "plt.axhline(y=gaam, color='r', linewidth=1,label='자전거전체평균대여건수',linestyle=':')\n",
        "plt.xticks(rotation=45)\n",
        "plt.legend()\n",
        "plt.show()"
      ],
      "metadata": {
        "colab": {
          "base_uri": "https://localhost:8080/",
          "height": 307
        },
        "id": "VKDIsqVhnrgo",
        "outputId": "8f02e740-ead2-49fe-b16c-06b2be806e8b"
      },
      "execution_count": 158,
      "outputs": [
        {
          "output_type": "display_data",
          "data": {
            "text/plain": [
              "<Figure size 432x288 with 0 Axes>"
            ]
          },
          "metadata": {}
        },
        {
          "output_type": "display_data",
          "data": {
            "image/png": "[encoded data removed]",
            "text/plain": [
              "<Figure size 432x288 with 1 Axes>"
            ]
          },
          "metadata": {
            "needs_background": "light"
          }
        }
      ]
    },
    {
      "cell_type": "code",
      "source": [
        "# 평일 요일(월화수목금)별 평균 대여량을 선그래프로 출력하세요. X축은 평일 요일\n",
        "waa=bicycle[~bicycle['요일'].isin(['토','일'])].pivot_table(\n",
        "    index='요일',\n",
        "    values='이용시간',\n",
        "    aggfunc='count'\n",
        ").reindex(index=week_names)\n",
        "waa.columns=['대여건수']\n",
        "waa.plot()"
      ],
      "metadata": {
        "id": "IGHadhRSIYl7",
        "colab": {
          "base_uri": "https://localhost:8080/",
          "height": 295
        },
        "outputId": "52a2bf8d-2ee2-4bae-ebc1-2f1b8b109e3a"
      },
      "execution_count": 259,
      "outputs": [
        {
          "output_type": "execute_result",
          "data": {
            "text/plain": [
              "<matplotlib.axes._subplots.AxesSubplot at 0x7fb88aaef510>"
            ]
          },
          "metadata": {},
          "execution_count": 259
        },
        {
          "output_type": "display_data",
          "data": {
            "image/png": "[encoded data removed]",
            "text/plain": [
              "<Figure size 432x288 with 1 Axes>"
            ]
          },
          "metadata": {
            "needs_background": "light"
          }
        }
      ]
    },
    {
      "cell_type": "code",
      "source": [
        "# 월별 주말의 평균 대여량을 선그래프로 출력하세요. X축은 월\n",
        "bicycle.pivot_table(\n",
        "    index='월',\n",
        "    columns='요일',\n",
        "    values='이용시간',\n",
        "    aggfunc='count'\n",
        ").loc[:,['토','일']].plot()"
      ],
      "metadata": {
        "id": "7TOhN62RIYgu",
        "colab": {
          "base_uri": "https://localhost:8080/",
          "height": 295
        },
        "outputId": "f4456f1b-08bb-4a86-ffcc-99a4d72a0e89"
      },
      "execution_count": 261,
      "outputs": [
        {
          "output_type": "execute_result",
          "data": {
            "text/plain": [
              "<matplotlib.axes._subplots.AxesSubplot at 0x7fb8899796d0>"
            ]
          },
          "metadata": {},
          "execution_count": 261
        },
        {
          "output_type": "display_data",
          "data": {
            "image/png": "[encoded data removed]",
            "text/plain": [
              "<Figure size 432x288 with 1 Axes>"
            ]
          },
          "metadata": {
            "needs_background": "light"
          }
        }
      ]
    },
    {
      "cell_type": "code",
      "source": [
        ""
      ],
      "metadata": {
        "id": "e--OPsAvIYVm"
      },
      "execution_count": null,
      "outputs": []
    },
    {
      "cell_type": "markdown",
      "source": [
        "#날씨함수"
      ],
      "metadata": {
        "id": "3ZtNtcrlq3oc"
      }
    },
    {
      "cell_type": "code",
      "source": [
        "# 아래는 년월입력시 해당 월의 전체의 날씨와 평균기온, 최고기온, 최저기온, 평균운량, 일강수량을 반환하는 함수이다\n",
        "def get_weather(year, month, debug=False):\n",
        "  '''\n",
        "    year와 month에 해당하는 날짜의 맑음, 비, 평균기온, 최고기온, 최저기온, 평균운량, 일강수량 정보를 DataFrame으로 반환한다\n",
        "  '''\n",
        "  import pandas as pd\n",
        "  url=f\"https://www.weather.go.kr/w/obs-climate/land/past-obs/obs-by-day.do?stn=108&yy={year}&mm={month}&obs=1\"\n",
        "  w = pd.read_html(url, encoding=\"utf-8\")\n",
        "  평균기온=[]\n",
        "  최고기온=[]\n",
        "  최저기온=[]\n",
        "  평균운량=[]\n",
        "  일강수량=[]\n",
        "  w_info=[]\n",
        "  for i in range(1, len(w[1]), 2): #날씨정보는 홀수번째 행에 저장중.\n",
        "    day_weather = w[1].loc[i] #홀수번째행 추출\n",
        "    for wt in day_weather : #홀수번째 행의 각 칼럼 추출\n",
        "      if pd.isna(wt): # 칼럼에 값이 없으면 다음 칼럼으로\n",
        "        continue\n",
        "      w_info.append(wt) # 칼럼에 값이 있으면 w_info에 저장\n",
        "      wt_sp = wt.split()\n",
        "      평균기온.append(wt_sp[0].split(\":\")[1].split(\"℃\")[0])\n",
        "      최고기온.append(wt_sp[1].split(\":\")[1].split(\"℃\")[0])\n",
        "      최저기온.append(wt_sp[2].split(\":\")[1].split(\"℃\")[0])\n",
        "      평균운량.append(wt_sp[3].split(\":\")[1])\n",
        "      일강수량.append(wt_sp[4].split(\":\")[1])\n",
        "      일강수량 = [ \"0\" if rain.strip()==\"\" or rain.endswith(\"0.0mm\") else rain.split(\"mm\")[0] for rain in 일강수량 ]\n",
        "  if debug: # 디버그 옵션이 True이면 중간 결과물 출력\n",
        "    display(w_info)\n",
        "    print(\"날씨정보 길이:\",len(w_info))\n",
        "    display(\"일강수량:\",일강수량)\n",
        "  w_info2=[] # 날씨만 담을 리스트\n",
        "  for wi in w_info:\n",
        "    # print(wi.split()[-1])\n",
        "    if not wi.endswith(\"mm\"): # 정보글자가 강수량인 mm로 안끝나면 맑음\n",
        "      w_info2.append(\"맑음\")\n",
        "      continue\n",
        "    if wi.split(\":\")[-1]==\"0.0mm\": # 정보글자가 0.0mm로 안끝나면 맑음\n",
        "      w_info2.append(\"맑음\")\n",
        "      continue\n",
        "    w_info2.append(\"비\") # 강수량 정보가 있으면 비\n",
        "  if debug:\n",
        "    display(w_info2)\n",
        "  date_info2 = [] # 날짜정보 저장용  yyyy-mm-dd\n",
        "  for i in range(1, len(w_info2)+1):\n",
        "    date_info2.append( f\"{year}-{month:02d}-{i:02d}\"   )\n",
        "  if debug:\n",
        "    display(date_info2)\n",
        "  weather_info = pd.DataFrame(\n",
        "      [date_info2,평균기온,최고기온,최저기온,평균운량,일강수량, w_info2], \n",
        "      index=[\"날짜\",\"평균기온\",\"최고기온\",\"최저기온\",\"평균운량\",\"일강수량\",\"날씨\"],\n",
        "      dtype=float).T\n",
        "  weather_info[\"평균기온\"]=weather_info[\"평균기온\"].astype(float)\n",
        "  weather_info[\"최고기온\"]=weather_info[\"최고기온\"].astype(float)\n",
        "  weather_info[\"최저기온\"]=weather_info[\"최저기온\"].astype(float)\n",
        "  weather_info[\"평균운량\"]=weather_info[\"평균운량\"].astype(float)\n",
        "  weather_info[\"일강수량\"]=weather_info[\"일강수량\"].astype(float)\n",
        "  return weather_info\n"
      ],
      "metadata": {
        "id": "wc6XOiLeGJJH"
      },
      "execution_count": 177,
      "outputs": []
    },
    {
      "cell_type": "markdown",
      "source": [
        "#날씨문제"
      ],
      "metadata": {
        "id": "I-Plg-aQq5lX"
      }
    },
    {
      "cell_type": "code",
      "source": [
        "# 사용예 2015년 9월 날씨 추출\n",
        "wt = get_weather(2015,9) \n",
        "# display(wt)\n",
        "# display(wt.info())"
      ],
      "metadata": {
        "colab": {
          "base_uri": "https://localhost:8080/"
        },
        "id": "Ojn5dD8h7hDC",
        "outputId": "85d9ecb5-8f5d-4da6-cabf-87ab13ec14ed"
      },
      "execution_count": 178,
      "outputs": [
        {
          "output_type": "stream",
          "name": "stderr",
          "text": [
            "/usr/local/lib/python3.7/dist-packages/ipykernel_launcher.py:2: FutureWarning: Could not cast to float64, falling back to object. This behavior is deprecated. In a future version, when a dtype is passed to 'DataFrame', either all columns will be cast to that dtype, or a TypeError will be raised\n",
            "  \n"
          ]
        }
      ]
    },
    {
      "cell_type": "code",
      "source": [
        "# 날씨정보를 추출하여 bicycle과 연결하세요\n",
        "wt9 = get_weather(2015,9) \n",
        "wt10 = get_weather(2015,10) \n",
        "wt11 = get_weather(2015,11) \n",
        "wt12 = get_weather(2015,12)\n",
        "wt = wt9.append(wt10)\n",
        "wt = wt.append(wt11)\n",
        "wt = wt.append(wt12)\n",
        "wt = wt.sort_values(by='날짜')\n",
        "wt"
      ],
      "metadata": {
        "id": "ABXxV3jchJt2",
        "colab": {
          "base_uri": "https://localhost:8080/",
          "height": 563
        },
        "outputId": "baf92988-e093-4623-b679-3fda4e993207"
      },
      "execution_count": 179,
      "outputs": [
        {
          "output_type": "stream",
          "name": "stderr",
          "text": [
            "/usr/local/lib/python3.7/dist-packages/ipykernel_launcher.py:2: FutureWarning: Could not cast to float64, falling back to object. This behavior is deprecated. In a future version, when a dtype is passed to 'DataFrame', either all columns will be cast to that dtype, or a TypeError will be raised\n",
            "  \n",
            "/usr/local/lib/python3.7/dist-packages/ipykernel_launcher.py:3: FutureWarning: Could not cast to float64, falling back to object. This behavior is deprecated. In a future version, when a dtype is passed to 'DataFrame', either all columns will be cast to that dtype, or a TypeError will be raised\n",
            "  This is separate from the ipykernel package so we can avoid doing imports until\n",
            "/usr/local/lib/python3.7/dist-packages/ipykernel_launcher.py:4: FutureWarning: Could not cast to float64, falling back to object. This behavior is deprecated. In a future version, when a dtype is passed to 'DataFrame', either all columns will be cast to that dtype, or a TypeError will be raised\n",
            "  after removing the cwd from sys.path.\n",
            "/usr/local/lib/python3.7/dist-packages/ipykernel_launcher.py:5: FutureWarning: Could not cast to float64, falling back to object. This behavior is deprecated. In a future version, when a dtype is passed to 'DataFrame', either all columns will be cast to that dtype, or a TypeError will be raised\n",
            "  \"\"\"\n"
          ]
        },
        {
          "output_type": "execute_result",
          "data": {
            "text/html": [
              "\n",
              "  <div id=\"df-2a20d0fe-6ab6-4f42-b4fb-08366f26c9af\">\n",
              "    <div class=\"colab-df-container\">\n",
              "      <div>\n",
              "<style scoped>\n",
              "    .dataframe tbody tr th:only-of-type {\n",
              "        vertical-align: middle;\n",
              "    }\n",
              "\n",
              "    .dataframe tbody tr th {\n",
              "        vertical-align: top;\n",
              "    }\n",
              "\n",
              "    .dataframe thead th {\n",
              "        text-align: right;\n",
              "    }\n",
              "</style>\n",
              "<table border=\"1\" class=\"dataframe\">\n",
              "  <thead>\n",
              "    <tr style=\"text-align: right;\">\n",
              "      <th></th>\n",
              "      <th>날짜</th>\n",
              "      <th>평균기온</th>\n",
              "      <th>최고기온</th>\n",
              "      <th>최저기온</th>\n",
              "      <th>평균운량</th>\n",
              "      <th>일강수량</th>\n",
              "      <th>날씨</th>\n",
              "    </tr>\n",
              "  </thead>\n",
              "  <tbody>\n",
              "    <tr>\n",
              "      <th>0</th>\n",
              "      <td>2015-09-01</td>\n",
              "      <td>25.9</td>\n",
              "      <td>30.7</td>\n",
              "      <td>22.6</td>\n",
              "      <td>7.4</td>\n",
              "      <td>0.0</td>\n",
              "      <td>맑음</td>\n",
              "    </tr>\n",
              "    <tr>\n",
              "      <th>1</th>\n",
              "      <td>2015-09-02</td>\n",
              "      <td>23.9</td>\n",
              "      <td>27.7</td>\n",
              "      <td>22.0</td>\n",
              "      <td>8.5</td>\n",
              "      <td>0.5</td>\n",
              "      <td>비</td>\n",
              "    </tr>\n",
              "    <tr>\n",
              "      <th>2</th>\n",
              "      <td>2015-09-03</td>\n",
              "      <td>23.9</td>\n",
              "      <td>28.2</td>\n",
              "      <td>19.8</td>\n",
              "      <td>4.1</td>\n",
              "      <td>18.0</td>\n",
              "      <td>비</td>\n",
              "    </tr>\n",
              "    <tr>\n",
              "      <th>3</th>\n",
              "      <td>2015-09-04</td>\n",
              "      <td>24.8</td>\n",
              "      <td>30.7</td>\n",
              "      <td>20.6</td>\n",
              "      <td>5.0</td>\n",
              "      <td>0.0</td>\n",
              "      <td>맑음</td>\n",
              "    </tr>\n",
              "    <tr>\n",
              "      <th>4</th>\n",
              "      <td>2015-09-05</td>\n",
              "      <td>21.9</td>\n",
              "      <td>23.6</td>\n",
              "      <td>19.4</td>\n",
              "      <td>9.4</td>\n",
              "      <td>5.0</td>\n",
              "      <td>비</td>\n",
              "    </tr>\n",
              "    <tr>\n",
              "      <th>...</th>\n",
              "      <td>...</td>\n",
              "      <td>...</td>\n",
              "      <td>...</td>\n",
              "      <td>...</td>\n",
              "      <td>...</td>\n",
              "      <td>...</td>\n",
              "      <td>...</td>\n",
              "    </tr>\n",
              "    <tr>\n",
              "      <th>26</th>\n",
              "      <td>2015-12-27</td>\n",
              "      <td>-5.7</td>\n",
              "      <td>-1.0</td>\n",
              "      <td>-8.9</td>\n",
              "      <td>0.0</td>\n",
              "      <td>0.0</td>\n",
              "      <td>맑음</td>\n",
              "    </tr>\n",
              "    <tr>\n",
              "      <th>27</th>\n",
              "      <td>2015-12-28</td>\n",
              "      <td>-5.7</td>\n",
              "      <td>-1.0</td>\n",
              "      <td>-9.5</td>\n",
              "      <td>0.0</td>\n",
              "      <td>0.0</td>\n",
              "      <td>맑음</td>\n",
              "    </tr>\n",
              "    <tr>\n",
              "      <th>28</th>\n",
              "      <td>2015-12-29</td>\n",
              "      <td>-3.2</td>\n",
              "      <td>2.9</td>\n",
              "      <td>-8.7</td>\n",
              "      <td>3.8</td>\n",
              "      <td>0.0</td>\n",
              "      <td>맑음</td>\n",
              "    </tr>\n",
              "    <tr>\n",
              "      <th>29</th>\n",
              "      <td>2015-12-30</td>\n",
              "      <td>0.3</td>\n",
              "      <td>4.3</td>\n",
              "      <td>-3.5</td>\n",
              "      <td>6.9</td>\n",
              "      <td>2.5</td>\n",
              "      <td>비</td>\n",
              "    </tr>\n",
              "    <tr>\n",
              "      <th>30</th>\n",
              "      <td>2015-12-31</td>\n",
              "      <td>0.7</td>\n",
              "      <td>2.8</td>\n",
              "      <td>-1.9</td>\n",
              "      <td>5.0</td>\n",
              "      <td>0.0</td>\n",
              "      <td>맑음</td>\n",
              "    </tr>\n",
              "  </tbody>\n",
              "</table>\n",
              "<p>122 rows × 7 columns</p>\n",
              "</div>\n",
              "      <button class=\"colab-df-convert\" onclick=\"convertToInteractive('df-2a20d0fe-6ab6-4f42-b4fb-08366f26c9af')\"\n",
              "              title=\"Convert this dataframe to an interactive table.\"\n",
              "              style=\"display:none;\">\n",
              "        \n",
              "  <svg xmlns=\"http://www.w3.org/2000/svg\" height=\"24px\"viewBox=\"0 0 24 24\"\n",
              "       width=\"24px\">\n",
              "    <path d=\"M0 0h24v24H0V0z\" fill=\"none\"/>\n",
              "    <path d=\"M18.56 5.44l.94 2.06.94-2.06 2.06-.94-2.06-.94-.94-2.06-.94 2.06-2.06.94zm-11 1L8.5 8.5l.94-2.06 2.06-.94-2.06-.94L8.5 2.5l-.94 2.06-2.06.94zm10 10l.94 2.06.94-2.06 2.06-.94-2.06-.94-.94-2.06-.94 2.06-2.06.94z\"/><path d=\"M17.41 7.96l-1.37-1.37c-.4-.4-.92-.59-1.43-.59-.52 0-1.04.2-1.43.59L10.3 9.45l-7.72 7.72c-.78.78-.78 2.05 0 2.83L4 21.41c.39.39.9.59 1.41.59.51 0 1.02-.2 1.41-.59l7.78-7.78 2.81-2.81c.8-.78.8-2.07 0-2.86zM5.41 20L4 18.59l7.72-7.72 1.47 1.35L5.41 20z\"/>\n",
              "  </svg>\n",
              "      </button>\n",
              "      \n",
              "  <style>\n",
              "    .colab-df-container {\n",
              "      display:flex;\n",
              "      flex-wrap:wrap;\n",
              "      gap: 12px;\n",
              "    }\n",
              "\n",
              "    .colab-df-convert {\n",
              "      background-color: #E8F0FE;\n",
              "      border: none;\n",
              "      border-radius: 50%;\n",
              "      cursor: pointer;\n",
              "      display: none;\n",
              "      fill: #1967D2;\n",
              "      height: 32px;\n",
              "      padding: 0 0 0 0;\n",
              "      width: 32px;\n",
              "    }\n",
              "\n",
              "    .colab-df-convert:hover {\n",
              "      background-color: #E2EBFA;\n",
              "      box-shadow: 0px 1px 2px rgba(60, 64, 67, 0.3), 0px 1px 3px 1px rgba(60, 64, 67, 0.15);\n",
              "      fill: #174EA6;\n",
              "    }\n",
              "\n",
              "    [theme=dark] .colab-df-convert {\n",
              "      background-color: #3B4455;\n",
              "      fill: #D2E3FC;\n",
              "    }\n",
              "\n",
              "    [theme=dark] .colab-df-convert:hover {\n",
              "      background-color: #434B5C;\n",
              "      box-shadow: 0px 1px 3px 1px rgba(0, 0, 0, 0.15);\n",
              "      filter: drop-shadow(0px 1px 2px rgba(0, 0, 0, 0.3));\n",
              "      fill: #FFFFFF;\n",
              "    }\n",
              "  </style>\n",
              "\n",
              "      <script>\n",
              "        const buttonEl =\n",
              "          document.querySelector('#df-2a20d0fe-6ab6-4f42-b4fb-08366f26c9af button.colab-df-convert');\n",
              "        buttonEl.style.display =\n",
              "          google.colab.kernel.accessAllowed ? 'block' : 'none';\n",
              "\n",
              "        async function convertToInteractive(key) {\n",
              "          const element = document.querySelector('#df-2a20d0fe-6ab6-4f42-b4fb-08366f26c9af');\n",
              "          const dataTable =\n",
              "            await google.colab.kernel.invokeFunction('convertToInteractive',\n",
              "                                                     [key], {});\n",
              "          if (!dataTable) return;\n",
              "\n",
              "          const docLinkHtml = 'Like what you see? Visit the ' +\n",
              "            '<a target=\"_blank\" href=https://colab.research.google.com/notebooks/data_table.ipynb>data table notebook</a>'\n",
              "            + ' to learn more about interactive tables.';\n",
              "          element.innerHTML = '';\n",
              "          dataTable['output_type'] = 'display_data';\n",
              "          await google.colab.output.renderOutput(dataTable, element);\n",
              "          const docLink = document.createElement('div');\n",
              "          docLink.innerHTML = docLinkHtml;\n",
              "          element.appendChild(docLink);\n",
              "        }\n",
              "      </script>\n",
              "    </div>\n",
              "  </div>\n",
              "  "
            ],
            "text/plain": [
              "            날짜  평균기온  최고기온  최저기온  평균운량  일강수량  날씨\n",
              "0   2015-09-01  25.9  30.7  22.6   7.4   0.0  맑음\n",
              "1   2015-09-02  23.9  27.7  22.0   8.5   0.5   비\n",
              "2   2015-09-03  23.9  28.2  19.8   4.1  18.0   비\n",
              "3   2015-09-04  24.8  30.7  20.6   5.0   0.0  맑음\n",
              "4   2015-09-05  21.9  23.6  19.4   9.4   5.0   비\n",
              "..         ...   ...   ...   ...   ...   ...  ..\n",
              "26  2015-12-27  -5.7  -1.0  -8.9   0.0   0.0  맑음\n",
              "27  2015-12-28  -5.7  -1.0  -9.5   0.0   0.0  맑음\n",
              "28  2015-12-29  -3.2   2.9  -8.7   3.8   0.0  맑음\n",
              "29  2015-12-30   0.3   4.3  -3.5   6.9   2.5   비\n",
              "30  2015-12-31   0.7   2.8  -1.9   5.0   0.0  맑음\n",
              "\n",
              "[122 rows x 7 columns]"
            ]
          },
          "metadata": {},
          "execution_count": 179
        }
      ]
    },
    {
      "cell_type": "code",
      "source": [
        "bicycle['날짜'] = bicycle['대여일시'].apply(lambda x:x.strftime('%Y-%m-%d'))\n",
        "bicycle.head()"
      ],
      "metadata": {
        "colab": {
          "base_uri": "https://localhost:8080/",
          "height": 201
        },
        "id": "L4lvwit6rc5A",
        "outputId": "7d52957b-f8c4-4451-e7e6-566b2cb2873d"
      },
      "execution_count": 187,
      "outputs": [
        {
          "output_type": "execute_result",
          "data": {
            "text/html": [
              "\n",
              "  <div id=\"df-6f0cb92a-8000-42d2-995a-d7d5834561be\">\n",
              "    <div class=\"colab-df-container\">\n",
              "      <div>\n",
              "<style scoped>\n",
              "    .dataframe tbody tr th:only-of-type {\n",
              "        vertical-align: middle;\n",
              "    }\n",
              "\n",
              "    .dataframe tbody tr th {\n",
              "        vertical-align: top;\n",
              "    }\n",
              "\n",
              "    .dataframe thead th {\n",
              "        text-align: right;\n",
              "    }\n",
              "</style>\n",
              "<table border=\"1\" class=\"dataframe\">\n",
              "  <thead>\n",
              "    <tr style=\"text-align: right;\">\n",
              "      <th></th>\n",
              "      <th>자전거번호</th>\n",
              "      <th>대여일시</th>\n",
              "      <th>대여소번호</th>\n",
              "      <th>대여소명</th>\n",
              "      <th>거치대번호</th>\n",
              "      <th>반납일시</th>\n",
              "      <th>반납대여소번호</th>\n",
              "      <th>반납대여소명</th>\n",
              "      <th>반납 거치대번호</th>\n",
              "      <th>이용시간</th>\n",
              "      <th>이용거리</th>\n",
              "      <th>년</th>\n",
              "      <th>월</th>\n",
              "      <th>일</th>\n",
              "      <th>시</th>\n",
              "      <th>요일</th>\n",
              "      <th>날짜</th>\n",
              "    </tr>\n",
              "  </thead>\n",
              "  <tbody>\n",
              "    <tr>\n",
              "      <th>0</th>\n",
              "      <td>SPB-00186</td>\n",
              "      <td>2015-09-19 00:59:00</td>\n",
              "      <td>115</td>\n",
              "      <td>사루비아 빌딩 앞</td>\n",
              "      <td>5</td>\n",
              "      <td>2015-09-19 2:39</td>\n",
              "      <td>115</td>\n",
              "      <td>사루비아 빌딩 앞</td>\n",
              "      <td>5</td>\n",
              "      <td>98</td>\n",
              "      <td>15240</td>\n",
              "      <td>2015</td>\n",
              "      <td>9</td>\n",
              "      <td>19</td>\n",
              "      <td>0</td>\n",
              "      <td>토</td>\n",
              "      <td>2015-09-19</td>\n",
              "    </tr>\n",
              "    <tr>\n",
              "      <th>1</th>\n",
              "      <td>SPB-00403</td>\n",
              "      <td>2015-09-19 01:22:00</td>\n",
              "      <td>112</td>\n",
              "      <td>극동방송국 앞</td>\n",
              "      <td>3</td>\n",
              "      <td>2015-09-19 6:09</td>\n",
              "      <td>102</td>\n",
              "      <td>망원역 1번출구 앞</td>\n",
              "      <td>16</td>\n",
              "      <td>286</td>\n",
              "      <td>10910</td>\n",
              "      <td>2015</td>\n",
              "      <td>9</td>\n",
              "      <td>19</td>\n",
              "      <td>1</td>\n",
              "      <td>토</td>\n",
              "      <td>2015-09-19</td>\n",
              "    </tr>\n",
              "    <tr>\n",
              "      <th>2</th>\n",
              "      <td>SPB-00485</td>\n",
              "      <td>2015-09-19 01:32:00</td>\n",
              "      <td>112</td>\n",
              "      <td>극동방송국 앞</td>\n",
              "      <td>1</td>\n",
              "      <td>2015-09-19 6:09</td>\n",
              "      <td>102</td>\n",
              "      <td>망원역 1번출구 앞</td>\n",
              "      <td>15</td>\n",
              "      <td>276</td>\n",
              "      <td>11000</td>\n",
              "      <td>2015</td>\n",
              "      <td>9</td>\n",
              "      <td>19</td>\n",
              "      <td>1</td>\n",
              "      <td>토</td>\n",
              "      <td>2015-09-19</td>\n",
              "    </tr>\n",
              "    <tr>\n",
              "      <th>3</th>\n",
              "      <td>SPB-00292</td>\n",
              "      <td>2015-09-19 07:52:00</td>\n",
              "      <td>221</td>\n",
              "      <td>여의도초교 앞</td>\n",
              "      <td>2</td>\n",
              "      <td>2015-09-19 8:56</td>\n",
              "      <td>221</td>\n",
              "      <td>여의도초교 앞</td>\n",
              "      <td>1</td>\n",
              "      <td>63</td>\n",
              "      <td>16500</td>\n",
              "      <td>2015</td>\n",
              "      <td>9</td>\n",
              "      <td>19</td>\n",
              "      <td>7</td>\n",
              "      <td>토</td>\n",
              "      <td>2015-09-19</td>\n",
              "    </tr>\n",
              "    <tr>\n",
              "      <th>4</th>\n",
              "      <td>SPB-00270</td>\n",
              "      <td>2015-09-19 08:56:00</td>\n",
              "      <td>221</td>\n",
              "      <td>여의도초교 앞</td>\n",
              "      <td>3</td>\n",
              "      <td>2015-09-19 9:05</td>\n",
              "      <td>210</td>\n",
              "      <td>IFC몰</td>\n",
              "      <td>2</td>\n",
              "      <td>8</td>\n",
              "      <td>1870</td>\n",
              "      <td>2015</td>\n",
              "      <td>9</td>\n",
              "      <td>19</td>\n",
              "      <td>8</td>\n",
              "      <td>토</td>\n",
              "      <td>2015-09-19</td>\n",
              "    </tr>\n",
              "  </tbody>\n",
              "</table>\n",
              "</div>\n",
              "      <button class=\"colab-df-convert\" onclick=\"convertToInteractive('df-6f0cb92a-8000-42d2-995a-d7d5834561be')\"\n",
              "              title=\"Convert this dataframe to an interactive table.\"\n",
              "              style=\"display:none;\">\n",
              "        \n",
              "  <svg xmlns=\"http://www.w3.org/2000/svg\" height=\"24px\"viewBox=\"0 0 24 24\"\n",
              "       width=\"24px\">\n",
              "    <path d=\"M0 0h24v24H0V0z\" fill=\"none\"/>\n",
              "    <path d=\"M18.56 5.44l.94 2.06.94-2.06 2.06-.94-2.06-.94-.94-2.06-.94 2.06-2.06.94zm-11 1L8.5 8.5l.94-2.06 2.06-.94-2.06-.94L8.5 2.5l-.94 2.06-2.06.94zm10 10l.94 2.06.94-2.06 2.06-.94-2.06-.94-.94-2.06-.94 2.06-2.06.94z\"/><path d=\"M17.41 7.96l-1.37-1.37c-.4-.4-.92-.59-1.43-.59-.52 0-1.04.2-1.43.59L10.3 9.45l-7.72 7.72c-.78.78-.78 2.05 0 2.83L4 21.41c.39.39.9.59 1.41.59.51 0 1.02-.2 1.41-.59l7.78-7.78 2.81-2.81c.8-.78.8-2.07 0-2.86zM5.41 20L4 18.59l7.72-7.72 1.47 1.35L5.41 20z\"/>\n",
              "  </svg>\n",
              "      </button>\n",
              "      \n",
              "  <style>\n",
              "    .colab-df-container {\n",
              "      display:flex;\n",
              "      flex-wrap:wrap;\n",
              "      gap: 12px;\n",
              "    }\n",
              "\n",
              "    .colab-df-convert {\n",
              "      background-color: #E8F0FE;\n",
              "      border: none;\n",
              "      border-radius: 50%;\n",
              "      cursor: pointer;\n",
              "      display: none;\n",
              "      fill: #1967D2;\n",
              "      height: 32px;\n",
              "      padding: 0 0 0 0;\n",
              "      width: 32px;\n",
              "    }\n",
              "\n",
              "    .colab-df-convert:hover {\n",
              "      background-color: #E2EBFA;\n",
              "      box-shadow: 0px 1px 2px rgba(60, 64, 67, 0.3), 0px 1px 3px 1px rgba(60, 64, 67, 0.15);\n",
              "      fill: #174EA6;\n",
              "    }\n",
              "\n",
              "    [theme=dark] .colab-df-convert {\n",
              "      background-color: #3B4455;\n",
              "      fill: #D2E3FC;\n",
              "    }\n",
              "\n",
              "    [theme=dark] .colab-df-convert:hover {\n",
              "      background-color: #434B5C;\n",
              "      box-shadow: 0px 1px 3px 1px rgba(0, 0, 0, 0.15);\n",
              "      filter: drop-shadow(0px 1px 2px rgba(0, 0, 0, 0.3));\n",
              "      fill: #FFFFFF;\n",
              "    }\n",
              "  </style>\n",
              "\n",
              "      <script>\n",
              "        const buttonEl =\n",
              "          document.querySelector('#df-6f0cb92a-8000-42d2-995a-d7d5834561be button.colab-df-convert');\n",
              "        buttonEl.style.display =\n",
              "          google.colab.kernel.accessAllowed ? 'block' : 'none';\n",
              "\n",
              "        async function convertToInteractive(key) {\n",
              "          const element = document.querySelector('#df-6f0cb92a-8000-42d2-995a-d7d5834561be');\n",
              "          const dataTable =\n",
              "            await google.colab.kernel.invokeFunction('convertToInteractive',\n",
              "                                                     [key], {});\n",
              "          if (!dataTable) return;\n",
              "\n",
              "          const docLinkHtml = 'Like what you see? Visit the ' +\n",
              "            '<a target=\"_blank\" href=https://colab.research.google.com/notebooks/data_table.ipynb>data table notebook</a>'\n",
              "            + ' to learn more about interactive tables.';\n",
              "          element.innerHTML = '';\n",
              "          dataTable['output_type'] = 'display_data';\n",
              "          await google.colab.output.renderOutput(dataTable, element);\n",
              "          const docLink = document.createElement('div');\n",
              "          docLink.innerHTML = docLinkHtml;\n",
              "          element.appendChild(docLink);\n",
              "        }\n",
              "      </script>\n",
              "    </div>\n",
              "  </div>\n",
              "  "
            ],
            "text/plain": [
              "       자전거번호                대여일시 대여소번호        대여소명  ...   일  시 요일          날짜\n",
              "0  SPB-00186 2015-09-19 00:59:00   115   사루비아 빌딩 앞  ...  19  0  토  2015-09-19\n",
              "1  SPB-00403 2015-09-19 01:22:00   112     극동방송국 앞  ...  19  1  토  2015-09-19\n",
              "2  SPB-00485 2015-09-19 01:32:00   112     극동방송국 앞  ...  19  1  토  2015-09-19\n",
              "3  SPB-00292 2015-09-19 07:52:00   221     여의도초교 앞  ...  19  7  토  2015-09-19\n",
              "4  SPB-00270 2015-09-19 08:56:00   221     여의도초교 앞  ...  19  8  토  2015-09-19\n",
              "\n",
              "[5 rows x 17 columns]"
            ]
          },
          "metadata": {},
          "execution_count": 187
        }
      ]
    },
    {
      "cell_type": "code",
      "source": [
        "bicycle2 = bicycle.merge(wt, on='날짜')\n",
        "bicycle2.head()"
      ],
      "metadata": {
        "colab": {
          "base_uri": "https://localhost:8080/",
          "height": 343
        },
        "id": "RlQR-ElrsE-N",
        "outputId": "2b8946d1-ad21-493c-bbdb-4a8393babcb7"
      },
      "execution_count": 188,
      "outputs": [
        {
          "output_type": "execute_result",
          "data": {
            "text/html": [
              "\n",
              "  <div id=\"df-d244507d-9987-4ea7-9d70-446fc262c7ba\">\n",
              "    <div class=\"colab-df-container\">\n",
              "      <div>\n",
              "<style scoped>\n",
              "    .dataframe tbody tr th:only-of-type {\n",
              "        vertical-align: middle;\n",
              "    }\n",
              "\n",
              "    .dataframe tbody tr th {\n",
              "        vertical-align: top;\n",
              "    }\n",
              "\n",
              "    .dataframe thead th {\n",
              "        text-align: right;\n",
              "    }\n",
              "</style>\n",
              "<table border=\"1\" class=\"dataframe\">\n",
              "  <thead>\n",
              "    <tr style=\"text-align: right;\">\n",
              "      <th></th>\n",
              "      <th>자전거번호</th>\n",
              "      <th>대여일시</th>\n",
              "      <th>대여소번호</th>\n",
              "      <th>대여소명</th>\n",
              "      <th>거치대번호</th>\n",
              "      <th>반납일시</th>\n",
              "      <th>반납대여소번호</th>\n",
              "      <th>반납대여소명</th>\n",
              "      <th>반납 거치대번호</th>\n",
              "      <th>이용시간</th>\n",
              "      <th>이용거리</th>\n",
              "      <th>년</th>\n",
              "      <th>월</th>\n",
              "      <th>일</th>\n",
              "      <th>시</th>\n",
              "      <th>요일</th>\n",
              "      <th>날짜</th>\n",
              "      <th>평균기온</th>\n",
              "      <th>최고기온</th>\n",
              "      <th>최저기온</th>\n",
              "      <th>평균운량</th>\n",
              "      <th>일강수량</th>\n",
              "      <th>날씨</th>\n",
              "    </tr>\n",
              "  </thead>\n",
              "  <tbody>\n",
              "    <tr>\n",
              "      <th>0</th>\n",
              "      <td>SPB-00186</td>\n",
              "      <td>2015-09-19 00:59:00</td>\n",
              "      <td>115</td>\n",
              "      <td>사루비아 빌딩 앞</td>\n",
              "      <td>5</td>\n",
              "      <td>2015-09-19 2:39</td>\n",
              "      <td>115</td>\n",
              "      <td>사루비아 빌딩 앞</td>\n",
              "      <td>5</td>\n",
              "      <td>98</td>\n",
              "      <td>15240</td>\n",
              "      <td>2015</td>\n",
              "      <td>9</td>\n",
              "      <td>19</td>\n",
              "      <td>0</td>\n",
              "      <td>토</td>\n",
              "      <td>2015-09-19</td>\n",
              "      <td>22.3</td>\n",
              "      <td>29.0</td>\n",
              "      <td>17.0</td>\n",
              "      <td>2.6</td>\n",
              "      <td>0.0</td>\n",
              "      <td>맑음</td>\n",
              "    </tr>\n",
              "    <tr>\n",
              "      <th>1</th>\n",
              "      <td>SPB-00403</td>\n",
              "      <td>2015-09-19 01:22:00</td>\n",
              "      <td>112</td>\n",
              "      <td>극동방송국 앞</td>\n",
              "      <td>3</td>\n",
              "      <td>2015-09-19 6:09</td>\n",
              "      <td>102</td>\n",
              "      <td>망원역 1번출구 앞</td>\n",
              "      <td>16</td>\n",
              "      <td>286</td>\n",
              "      <td>10910</td>\n",
              "      <td>2015</td>\n",
              "      <td>9</td>\n",
              "      <td>19</td>\n",
              "      <td>1</td>\n",
              "      <td>토</td>\n",
              "      <td>2015-09-19</td>\n",
              "      <td>22.3</td>\n",
              "      <td>29.0</td>\n",
              "      <td>17.0</td>\n",
              "      <td>2.6</td>\n",
              "      <td>0.0</td>\n",
              "      <td>맑음</td>\n",
              "    </tr>\n",
              "    <tr>\n",
              "      <th>2</th>\n",
              "      <td>SPB-00485</td>\n",
              "      <td>2015-09-19 01:32:00</td>\n",
              "      <td>112</td>\n",
              "      <td>극동방송국 앞</td>\n",
              "      <td>1</td>\n",
              "      <td>2015-09-19 6:09</td>\n",
              "      <td>102</td>\n",
              "      <td>망원역 1번출구 앞</td>\n",
              "      <td>15</td>\n",
              "      <td>276</td>\n",
              "      <td>11000</td>\n",
              "      <td>2015</td>\n",
              "      <td>9</td>\n",
              "      <td>19</td>\n",
              "      <td>1</td>\n",
              "      <td>토</td>\n",
              "      <td>2015-09-19</td>\n",
              "      <td>22.3</td>\n",
              "      <td>29.0</td>\n",
              "      <td>17.0</td>\n",
              "      <td>2.6</td>\n",
              "      <td>0.0</td>\n",
              "      <td>맑음</td>\n",
              "    </tr>\n",
              "    <tr>\n",
              "      <th>3</th>\n",
              "      <td>SPB-00292</td>\n",
              "      <td>2015-09-19 07:52:00</td>\n",
              "      <td>221</td>\n",
              "      <td>여의도초교 앞</td>\n",
              "      <td>2</td>\n",
              "      <td>2015-09-19 8:56</td>\n",
              "      <td>221</td>\n",
              "      <td>여의도초교 앞</td>\n",
              "      <td>1</td>\n",
              "      <td>63</td>\n",
              "      <td>16500</td>\n",
              "      <td>2015</td>\n",
              "      <td>9</td>\n",
              "      <td>19</td>\n",
              "      <td>7</td>\n",
              "      <td>토</td>\n",
              "      <td>2015-09-19</td>\n",
              "      <td>22.3</td>\n",
              "      <td>29.0</td>\n",
              "      <td>17.0</td>\n",
              "      <td>2.6</td>\n",
              "      <td>0.0</td>\n",
              "      <td>맑음</td>\n",
              "    </tr>\n",
              "    <tr>\n",
              "      <th>4</th>\n",
              "      <td>SPB-00270</td>\n",
              "      <td>2015-09-19 08:56:00</td>\n",
              "      <td>221</td>\n",
              "      <td>여의도초교 앞</td>\n",
              "      <td>3</td>\n",
              "      <td>2015-09-19 9:05</td>\n",
              "      <td>210</td>\n",
              "      <td>IFC몰</td>\n",
              "      <td>2</td>\n",
              "      <td>8</td>\n",
              "      <td>1870</td>\n",
              "      <td>2015</td>\n",
              "      <td>9</td>\n",
              "      <td>19</td>\n",
              "      <td>8</td>\n",
              "      <td>토</td>\n",
              "      <td>2015-09-19</td>\n",
              "      <td>22.3</td>\n",
              "      <td>29.0</td>\n",
              "      <td>17.0</td>\n",
              "      <td>2.6</td>\n",
              "      <td>0.0</td>\n",
              "      <td>맑음</td>\n",
              "    </tr>\n",
              "  </tbody>\n",
              "</table>\n",
              "</div>\n",
              "      <button class=\"colab-df-convert\" onclick=\"convertToInteractive('df-d244507d-9987-4ea7-9d70-446fc262c7ba')\"\n",
              "              title=\"Convert this dataframe to an interactive table.\"\n",
              "              style=\"display:none;\">\n",
              "        \n",
              "  <svg xmlns=\"http://www.w3.org/2000/svg\" height=\"24px\"viewBox=\"0 0 24 24\"\n",
              "       width=\"24px\">\n",
              "    <path d=\"M0 0h24v24H0V0z\" fill=\"none\"/>\n",
              "    <path d=\"M18.56 5.44l.94 2.06.94-2.06 2.06-.94-2.06-.94-.94-2.06-.94 2.06-2.06.94zm-11 1L8.5 8.5l.94-2.06 2.06-.94-2.06-.94L8.5 2.5l-.94 2.06-2.06.94zm10 10l.94 2.06.94-2.06 2.06-.94-2.06-.94-.94-2.06-.94 2.06-2.06.94z\"/><path d=\"M17.41 7.96l-1.37-1.37c-.4-.4-.92-.59-1.43-.59-.52 0-1.04.2-1.43.59L10.3 9.45l-7.72 7.72c-.78.78-.78 2.05 0 2.83L4 21.41c.39.39.9.59 1.41.59.51 0 1.02-.2 1.41-.59l7.78-7.78 2.81-2.81c.8-.78.8-2.07 0-2.86zM5.41 20L4 18.59l7.72-7.72 1.47 1.35L5.41 20z\"/>\n",
              "  </svg>\n",
              "      </button>\n",
              "      \n",
              "  <style>\n",
              "    .colab-df-container {\n",
              "      display:flex;\n",
              "      flex-wrap:wrap;\n",
              "      gap: 12px;\n",
              "    }\n",
              "\n",
              "    .colab-df-convert {\n",
              "      background-color: #E8F0FE;\n",
              "      border: none;\n",
              "      border-radius: 50%;\n",
              "      cursor: pointer;\n",
              "      display: none;\n",
              "      fill: #1967D2;\n",
              "      height: 32px;\n",
              "      padding: 0 0 0 0;\n",
              "      width: 32px;\n",
              "    }\n",
              "\n",
              "    .colab-df-convert:hover {\n",
              "      background-color: #E2EBFA;\n",
              "      box-shadow: 0px 1px 2px rgba(60, 64, 67, 0.3), 0px 1px 3px 1px rgba(60, 64, 67, 0.15);\n",
              "      fill: #174EA6;\n",
              "    }\n",
              "\n",
              "    [theme=dark] .colab-df-convert {\n",
              "      background-color: #3B4455;\n",
              "      fill: #D2E3FC;\n",
              "    }\n",
              "\n",
              "    [theme=dark] .colab-df-convert:hover {\n",
              "      background-color: #434B5C;\n",
              "      box-shadow: 0px 1px 3px 1px rgba(0, 0, 0, 0.15);\n",
              "      filter: drop-shadow(0px 1px 2px rgba(0, 0, 0, 0.3));\n",
              "      fill: #FFFFFF;\n",
              "    }\n",
              "  </style>\n",
              "\n",
              "      <script>\n",
              "        const buttonEl =\n",
              "          document.querySelector('#df-d244507d-9987-4ea7-9d70-446fc262c7ba button.colab-df-convert');\n",
              "        buttonEl.style.display =\n",
              "          google.colab.kernel.accessAllowed ? 'block' : 'none';\n",
              "\n",
              "        async function convertToInteractive(key) {\n",
              "          const element = document.querySelector('#df-d244507d-9987-4ea7-9d70-446fc262c7ba');\n",
              "          const dataTable =\n",
              "            await google.colab.kernel.invokeFunction('convertToInteractive',\n",
              "                                                     [key], {});\n",
              "          if (!dataTable) return;\n",
              "\n",
              "          const docLinkHtml = 'Like what you see? Visit the ' +\n",
              "            '<a target=\"_blank\" href=https://colab.research.google.com/notebooks/data_table.ipynb>data table notebook</a>'\n",
              "            + ' to learn more about interactive tables.';\n",
              "          element.innerHTML = '';\n",
              "          dataTable['output_type'] = 'display_data';\n",
              "          await google.colab.output.renderOutput(dataTable, element);\n",
              "          const docLink = document.createElement('div');\n",
              "          docLink.innerHTML = docLinkHtml;\n",
              "          element.appendChild(docLink);\n",
              "        }\n",
              "      </script>\n",
              "    </div>\n",
              "  </div>\n",
              "  "
            ],
            "text/plain": [
              "       자전거번호                대여일시 대여소번호        대여소명  ...  최저기온 평균운량 일강수량  날씨\n",
              "0  SPB-00186 2015-09-19 00:59:00   115   사루비아 빌딩 앞  ...  17.0  2.6  0.0  맑음\n",
              "1  SPB-00403 2015-09-19 01:22:00   112     극동방송국 앞  ...  17.0  2.6  0.0  맑음\n",
              "2  SPB-00485 2015-09-19 01:32:00   112     극동방송국 앞  ...  17.0  2.6  0.0  맑음\n",
              "3  SPB-00292 2015-09-19 07:52:00   221     여의도초교 앞  ...  17.0  2.6  0.0  맑음\n",
              "4  SPB-00270 2015-09-19 08:56:00   221     여의도초교 앞  ...  17.0  2.6  0.0  맑음\n",
              "\n",
              "[5 rows x 23 columns]"
            ]
          },
          "metadata": {},
          "execution_count": 188
        }
      ]
    },
    {
      "cell_type": "code",
      "source": [
        "# 월별 날씨(맑음,비)별 평균 대여량을 출력하세요. X축은 월\n",
        "bicycle2.pivot_table(\n",
        "    index='월',\n",
        "    columns='날씨',\n",
        "    values='대여일시',\n",
        "    aggfunc='count'\n",
        ").fillna(0)"
      ],
      "metadata": {
        "id": "3aRvWvPeIFpG",
        "colab": {
          "base_uri": "https://localhost:8080/",
          "height": 201
        },
        "outputId": "d83364a5-d3d8-41bc-ebb6-c1781ea9a9e5"
      },
      "execution_count": 189,
      "outputs": [
        {
          "output_type": "execute_result",
          "data": {
            "text/html": [
              "\n",
              "  <div id=\"df-2f83dcf7-70ff-46b8-a21e-4e9f6f93b721\">\n",
              "    <div class=\"colab-df-container\">\n",
              "      <div>\n",
              "<style scoped>\n",
              "    .dataframe tbody tr th:only-of-type {\n",
              "        vertical-align: middle;\n",
              "    }\n",
              "\n",
              "    .dataframe tbody tr th {\n",
              "        vertical-align: top;\n",
              "    }\n",
              "\n",
              "    .dataframe thead th {\n",
              "        text-align: right;\n",
              "    }\n",
              "</style>\n",
              "<table border=\"1\" class=\"dataframe\">\n",
              "  <thead>\n",
              "    <tr style=\"text-align: right;\">\n",
              "      <th>날씨</th>\n",
              "      <th>맑음</th>\n",
              "      <th>비</th>\n",
              "    </tr>\n",
              "    <tr>\n",
              "      <th>월</th>\n",
              "      <th></th>\n",
              "      <th></th>\n",
              "    </tr>\n",
              "  </thead>\n",
              "  <tbody>\n",
              "    <tr>\n",
              "      <th>9</th>\n",
              "      <td>10863.0</td>\n",
              "      <td>0.0</td>\n",
              "    </tr>\n",
              "    <tr>\n",
              "      <th>10</th>\n",
              "      <td>31349.0</td>\n",
              "      <td>7386.0</td>\n",
              "    </tr>\n",
              "    <tr>\n",
              "      <th>11</th>\n",
              "      <td>26494.0</td>\n",
              "      <td>9904.0</td>\n",
              "    </tr>\n",
              "    <tr>\n",
              "      <th>12</th>\n",
              "      <td>16495.0</td>\n",
              "      <td>5367.0</td>\n",
              "    </tr>\n",
              "  </tbody>\n",
              "</table>\n",
              "</div>\n",
              "      <button class=\"colab-df-convert\" onclick=\"convertToInteractive('df-2f83dcf7-70ff-46b8-a21e-4e9f6f93b721')\"\n",
              "              title=\"Convert this dataframe to an interactive table.\"\n",
              "              style=\"display:none;\">\n",
              "        \n",
              "  <svg xmlns=\"http://www.w3.org/2000/svg\" height=\"24px\"viewBox=\"0 0 24 24\"\n",
              "       width=\"24px\">\n",
              "    <path d=\"M0 0h24v24H0V0z\" fill=\"none\"/>\n",
              "    <path d=\"M18.56 5.44l.94 2.06.94-2.06 2.06-.94-2.06-.94-.94-2.06-.94 2.06-2.06.94zm-11 1L8.5 8.5l.94-2.06 2.06-.94-2.06-.94L8.5 2.5l-.94 2.06-2.06.94zm10 10l.94 2.06.94-2.06 2.06-.94-2.06-.94-.94-2.06-.94 2.06-2.06.94z\"/><path d=\"M17.41 7.96l-1.37-1.37c-.4-.4-.92-.59-1.43-.59-.52 0-1.04.2-1.43.59L10.3 9.45l-7.72 7.72c-.78.78-.78 2.05 0 2.83L4 21.41c.39.39.9.59 1.41.59.51 0 1.02-.2 1.41-.59l7.78-7.78 2.81-2.81c.8-.78.8-2.07 0-2.86zM5.41 20L4 18.59l7.72-7.72 1.47 1.35L5.41 20z\"/>\n",
              "  </svg>\n",
              "      </button>\n",
              "      \n",
              "  <style>\n",
              "    .colab-df-container {\n",
              "      display:flex;\n",
              "      flex-wrap:wrap;\n",
              "      gap: 12px;\n",
              "    }\n",
              "\n",
              "    .colab-df-convert {\n",
              "      background-color: #E8F0FE;\n",
              "      border: none;\n",
              "      border-radius: 50%;\n",
              "      cursor: pointer;\n",
              "      display: none;\n",
              "      fill: #1967D2;\n",
              "      height: 32px;\n",
              "      padding: 0 0 0 0;\n",
              "      width: 32px;\n",
              "    }\n",
              "\n",
              "    .colab-df-convert:hover {\n",
              "      background-color: #E2EBFA;\n",
              "      box-shadow: 0px 1px 2px rgba(60, 64, 67, 0.3), 0px 1px 3px 1px rgba(60, 64, 67, 0.15);\n",
              "      fill: #174EA6;\n",
              "    }\n",
              "\n",
              "    [theme=dark] .colab-df-convert {\n",
              "      background-color: #3B4455;\n",
              "      fill: #D2E3FC;\n",
              "    }\n",
              "\n",
              "    [theme=dark] .colab-df-convert:hover {\n",
              "      background-color: #434B5C;\n",
              "      box-shadow: 0px 1px 3px 1px rgba(0, 0, 0, 0.15);\n",
              "      filter: drop-shadow(0px 1px 2px rgba(0, 0, 0, 0.3));\n",
              "      fill: #FFFFFF;\n",
              "    }\n",
              "  </style>\n",
              "\n",
              "      <script>\n",
              "        const buttonEl =\n",
              "          document.querySelector('#df-2f83dcf7-70ff-46b8-a21e-4e9f6f93b721 button.colab-df-convert');\n",
              "        buttonEl.style.display =\n",
              "          google.colab.kernel.accessAllowed ? 'block' : 'none';\n",
              "\n",
              "        async function convertToInteractive(key) {\n",
              "          const element = document.querySelector('#df-2f83dcf7-70ff-46b8-a21e-4e9f6f93b721');\n",
              "          const dataTable =\n",
              "            await google.colab.kernel.invokeFunction('convertToInteractive',\n",
              "                                                     [key], {});\n",
              "          if (!dataTable) return;\n",
              "\n",
              "          const docLinkHtml = 'Like what you see? Visit the ' +\n",
              "            '<a target=\"_blank\" href=https://colab.research.google.com/notebooks/data_table.ipynb>data table notebook</a>'\n",
              "            + ' to learn more about interactive tables.';\n",
              "          element.innerHTML = '';\n",
              "          dataTable['output_type'] = 'display_data';\n",
              "          await google.colab.output.renderOutput(dataTable, element);\n",
              "          const docLink = document.createElement('div');\n",
              "          docLink.innerHTML = docLinkHtml;\n",
              "          element.appendChild(docLink);\n",
              "        }\n",
              "      </script>\n",
              "    </div>\n",
              "  </div>\n",
              "  "
            ],
            "text/plain": [
              "날씨       맑음       비\n",
              "월                  \n",
              "9   10863.0     0.0\n",
              "10  31349.0  7386.0\n",
              "11  26494.0  9904.0\n",
              "12  16495.0  5367.0"
            ]
          },
          "metadata": {},
          "execution_count": 189
        }
      ]
    },
    {
      "cell_type": "code",
      "source": [
        "# 월별 날씨(맑음,비)별 평균 대여량을 선그래프로 출력하세요. X축은 월\n",
        "bicycle2.pivot_table(\n",
        "    index='월',\n",
        "    columns='날씨',\n",
        "    values='대여일시',\n",
        "    aggfunc='count'\n",
        ").fillna(0).plot()"
      ],
      "metadata": {
        "id": "psmuAMBsI0fs",
        "colab": {
          "base_uri": "https://localhost:8080/",
          "height": 295
        },
        "outputId": "37cde808-da9c-41fc-dc02-a0a33b8c75db"
      },
      "execution_count": 190,
      "outputs": [
        {
          "output_type": "execute_result",
          "data": {
            "text/plain": [
              "<matplotlib.axes._subplots.AxesSubplot at 0x7fb8898dced0>"
            ]
          },
          "metadata": {},
          "execution_count": 190
        },
        {
          "output_type": "display_data",
          "data": {
            "image/png": "[encoded data removed]",
            "text/plain": [
              "<Figure size 432x288 with 1 Axes>"
            ]
          },
          "metadata": {
            "needs_background": "light"
          }
        }
      ]
    },
    {
      "cell_type": "code",
      "source": [
        "# 날씨(맑음,비)별 평균 대여량이 가장 많은 대여소 top 10의 평균 대여량을 선그래프로 출력하세요. X축은 대여소명\n",
        "abm=bicycle2.pivot_table(\n",
        "    index='대여소명',\n",
        "    columns='날씨',\n",
        "    values='대여일시',\n",
        "    aggfunc='count'\n",
        ").fillna(0).sort_values(['맑음','비'],ascending=[False,False]).head(10)\n",
        "abm.plot(figsize=(20,10))\n"
      ],
      "metadata": {
        "id": "oLAOFVQ3EYXr",
        "colab": {
          "base_uri": "https://localhost:8080/",
          "height": 622
        },
        "outputId": "ca04399e-487e-4d51-bd8a-91cf80b4d41d"
      },
      "execution_count": 264,
      "outputs": [
        {
          "output_type": "execute_result",
          "data": {
            "text/plain": [
              "<matplotlib.axes._subplots.AxesSubplot at 0x7fb88963fbd0>"
            ]
          },
          "metadata": {},
          "execution_count": 264
        },
        {
          "output_type": "display_data",
          "data": {
            "image/png": "[encoded data removed]",
            "text/plain": [
              "<Figure size 1440x720 with 1 Axes>"
            ]
          },
          "metadata": {
            "needs_background": "light"
          }
        }
      ]
    },
    {
      "cell_type": "code",
      "source": [
        "# 월별 평균기온과 최고 기온과 평균 대여량의 선그래프를 출력하세요. X축은 월\n",
        "asd=bicycle2.pivot_table(\n",
        "    index='월',\n",
        "    values=['평균기온','최고기온'],\n",
        "    aggfunc='mean'\n",
        ")\n",
        "asd1=bicycle2.pivot_table(\n",
        "    index='월',\n",
        "    values='이용시간',\n",
        "    aggfunc='count'\n",
        ")\n",
        "asd1.columns=['대여건수']"
      ],
      "metadata": {
        "id": "s-4zFjdOEYaK"
      },
      "execution_count": 250,
      "outputs": []
    },
    {
      "cell_type": "code",
      "source": [
        "# 월별 평균기온과 최고 기온과 평균 대여량의 선그래프를 출력하세요. X축은 월\n",
        "asd.plot()\n",
        "asd1.plot()"
      ],
      "metadata": {
        "colab": {
          "base_uri": "https://localhost:8080/",
          "height": 560
        },
        "id": "zhSlUubFyV1O",
        "outputId": "4abeafec-8cf6-4cfe-e877-7fbc13daea1b"
      },
      "execution_count": 270,
      "outputs": [
        {
          "output_type": "execute_result",
          "data": {
            "text/plain": [
              "<matplotlib.axes._subplots.AxesSubplot at 0x7fb88aff2350>"
            ]
          },
          "metadata": {},
          "execution_count": 270
        },
        {
          "output_type": "display_data",
          "data": {
            "image/png": "[encoded data removed]",
            "text/plain": [
              "<Figure size 432x288 with 1 Axes>"
            ]
          },
          "metadata": {
            "needs_background": "light"
          }
        },
        {
          "output_type": "display_data",
          "data": {
            "image/png": "[encoded data removed]",
            "text/plain": [
              "<Figure size 432x288 with 1 Axes>"
            ]
          },
          "metadata": {
            "needs_background": "light"
          }
        }
      ]
    },
    {
      "cell_type": "code",
      "source": [
        "asd12=bicycle2.pivot_table(\n",
        "    index='월',\n",
        "    values='평균기온',\n",
        "    aggfunc='mean'\n",
        ")\n",
        "asd121=bicycle2.pivot_table(\n",
        "    index='월',\n",
        "    values='최고기온',\n",
        "    aggfunc='mean'\n",
        ")\n",
        "fig = plt.figure(figsize=(6,6))\n",
        "ax1 = fig.add_subplot()\n",
        " \n",
        "ax1.plot(asd.index, asd121.values, color='g',label='최고기온')\n",
        "ax1.plot(asd.index, asd12.values, color='b',label='평균기온')\n",
        "ax1.set_xlabel('월')\n",
        "\n",
        "ax1.set_ylabel('기온', color='b')\n",
        "ax1.tick_params(axis='y', labelcolor='b')\n",
        " \n",
        "\n",
        "ax2 = ax1.twinx()\n",
        "ax2.plot(asd.index, asd1.values, color='r',label='대여건수')\n",
        "ax2.set_ylabel('대여건수', color='r')\n",
        "ax2.tick_params(axis='y', labelcolor='r')\n",
        "ax1.legend(loc=4)\n",
        "ax2.legend()\n",
        "plt.show()"
      ],
      "metadata": {
        "colab": {
          "base_uri": "https://localhost:8080/",
          "height": 389
        },
        "id": "-tlt33bCUbcQ",
        "outputId": "7375195c-05b0-4a6a-91c0-6bc2a6a79f5a"
      },
      "execution_count": 288,
      "outputs": [
        {
          "output_type": "display_data",
          "data": {
            "image/png": "[encoded data removed]",
            "text/plain": [
              "<Figure size 432x432 with 2 Axes>"
            ]
          },
          "metadata": {
            "needs_background": "light"
          }
        }
      ]
    }
  ]
}